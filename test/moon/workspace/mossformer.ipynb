{
 "cells": [
  {
   "cell_type": "code",
   "execution_count": 2,
   "metadata": {},
   "outputs": [
    {
     "name": "stderr",
     "output_type": "stream",
     "text": [
      "2024-07-04 21:18:43,099 - modelscope - INFO - PyTorch version 2.3.1 Found.\n",
      "2024-07-04 21:18:43,100 - modelscope - INFO - TensorFlow version 2.9.3 Found.\n",
      "2024-07-04 21:18:43,100 - modelscope - INFO - Loading ast index from /home/aicontest/.cache/modelscope/ast_indexer\n",
      "2024-07-04 21:18:43,120 - modelscope - INFO - Loading done! Current index file version is 1.15.0, with md5 98af7da3b6b7be17b4a668c6b151dcc5 and a total number of 980 components indexed\n",
      "/home/aicontest/anaconda3/envs/moon/lib/python3.9/site-packages/tqdm/auto.py:21: TqdmWarning: IProgress not found. Please update jupyter and ipywidgets. See https://ipywidgets.readthedocs.io/en/stable/user_install.html\n",
      "  from .autonotebook import tqdm as notebook_tqdm\n",
      "2024-07-04 21:18:43.788331: I tensorflow/core/util/util.cc:169] oneDNN custom operations are on. You may see slightly different numerical results due to floating-point round-off errors from different computation orders. To turn them off, set the environment variable `TF_ENABLE_ONEDNN_OPTS=0`.\n",
      "2024-07-04 21:18:43.791294: W tensorflow/stream_executor/platform/default/dso_loader.cc:64] Could not load dynamic library 'libcudart.so.11.0'; dlerror: libcudart.so.11.0: cannot open shared object file: No such file or directory\n",
      "2024-07-04 21:18:43.791306: I tensorflow/stream_executor/cuda/cudart_stub.cc:29] Ignore above cudart dlerror if you do not have a GPU set up on your machine.\n"
     ]
    }
   ],
   "source": [
    "from pydub import AudioSegment\n",
    "from glob import glob\n",
    "from tqdm import tqdm\n",
    "import numpy\n",
    "import soundfile as sf\n",
    "from modelscope.pipelines import pipeline\n",
    "from modelscope.utils.constant import Tasks\n",
    "import os\n",
    "from spleeter.separator import Separator"
   ]
  },
  {
   "cell_type": "code",
   "execution_count": 9,
   "metadata": {},
   "outputs": [],
   "source": [
    "# ogg 형식의 파일을 wav로 바꿔서 저장하되 sampling rate를 8000으로 resampling\n",
    "def convert_ogg_to_wav(input_ogg_path, output_wav_path):\n",
    "\n",
    "    # OGG 파일을 로드\n",
    "    audio = AudioSegment.from_ogg(input_ogg_path)\n",
    "    \n",
    "    audio = audio.set_frame_rate(8000)\n",
    "    # WAV 파일로 변환하여 저장\n",
    "    audio.export(output_wav_path, format=\"wav\")"
   ]
  },
  {
   "cell_type": "code",
   "execution_count": 15,
   "metadata": {},
   "outputs": [
    {
     "name": "stdout",
     "output_type": "stream",
     "text": [
      "INFO:spleeter:File /hdd_data/datasets/audio/unlabeled_data_separation/VHRYITLQ/accompaniment.wav written succesfully\n",
      "INFO:spleeter:File /hdd_data/datasets/audio/unlabeled_data_separation/VHRYITLQ/vocals.wav written succesfully\n"
     ]
    },
    {
     "name": "stderr",
     "output_type": "stream",
     "text": [
      " 86%|████████▌ | 1089/1264 [06:35<01:05,  2.68it/s]"
     ]
    },
    {
     "name": "stdout",
     "output_type": "stream",
     "text": [
      "INFO:spleeter:File /hdd_data/datasets/audio/unlabeled_data_separation/PWSTAHZH/accompaniment.wav written succesfully\n",
      "INFO:spleeter:File /hdd_data/datasets/audio/unlabeled_data_separation/PWSTAHZH/vocals.wav written succesfully\n"
     ]
    },
    {
     "name": "stderr",
     "output_type": "stream",
     "text": [
      " 86%|████████▌ | 1090/1264 [06:35<01:04,  2.70it/s]"
     ]
    },
    {
     "name": "stdout",
     "output_type": "stream",
     "text": [
      "INFO:spleeter:File /hdd_data/datasets/audio/unlabeled_data_separation/FBACVNYO/vocals.wav written succesfully\n",
      "INFO:spleeter:File /hdd_data/datasets/audio/unlabeled_data_separation/FBACVNYO/accompaniment.wav written succesfully\n"
     ]
    },
    {
     "name": "stderr",
     "output_type": "stream",
     "text": [
      " 86%|████████▋ | 1091/1264 [06:35<01:03,  2.73it/s]"
     ]
    },
    {
     "name": "stdout",
     "output_type": "stream",
     "text": [
      "INFO:spleeter:File /hdd_data/datasets/audio/unlabeled_data_separation/SYNAXTBM/accompaniment.wav written succesfully\n",
      "INFO:spleeter:File /hdd_data/datasets/audio/unlabeled_data_separation/SYNAXTBM/vocals.wav written succesfully\n"
     ]
    },
    {
     "name": "stderr",
     "output_type": "stream",
     "text": [
      " 86%|████████▋ | 1092/1264 [06:36<01:02,  2.76it/s]"
     ]
    },
    {
     "name": "stdout",
     "output_type": "stream",
     "text": [
      "INFO:spleeter:File /hdd_data/datasets/audio/unlabeled_data_separation/XDGEGNUL/vocals.wav written succesfully\n",
      "INFO:spleeter:File /hdd_data/datasets/audio/unlabeled_data_separation/XDGEGNUL/accompaniment.wav written succesfully\n"
     ]
    },
    {
     "name": "stderr",
     "output_type": "stream",
     "text": [
      " 86%|████████▋ | 1093/1264 [06:36<01:02,  2.75it/s]"
     ]
    },
    {
     "name": "stdout",
     "output_type": "stream",
     "text": [
      "INFO:spleeter:File /hdd_data/datasets/audio/unlabeled_data_separation/TJSTYMTB/vocals.wav written succesfully\n",
      "INFO:spleeter:File /hdd_data/datasets/audio/unlabeled_data_separation/TJSTYMTB/accompaniment.wav written succesfully\n"
     ]
    },
    {
     "name": "stderr",
     "output_type": "stream",
     "text": [
      " 87%|████████▋ | 1094/1264 [06:36<01:01,  2.75it/s]"
     ]
    },
    {
     "name": "stdout",
     "output_type": "stream",
     "text": [
      "INFO:spleeter:File /hdd_data/datasets/audio/unlabeled_data_separation/UTJBBENE/vocals.wav written succesfully\n",
      "INFO:spleeter:File /hdd_data/datasets/audio/unlabeled_data_separation/UTJBBENE/accompaniment.wav written succesfully\n"
     ]
    },
    {
     "name": "stderr",
     "output_type": "stream",
     "text": [
      " 87%|████████▋ | 1095/1264 [06:37<01:00,  2.78it/s]"
     ]
    },
    {
     "name": "stdout",
     "output_type": "stream",
     "text": [
      "INFO:spleeter:File /hdd_data/datasets/audio/unlabeled_data_separation/SSPOZGZS/vocals.wav written succesfully\n",
      "INFO:spleeter:File /hdd_data/datasets/audio/unlabeled_data_separation/SSPOZGZS/accompaniment.wav written succesfully\n"
     ]
    },
    {
     "name": "stderr",
     "output_type": "stream",
     "text": [
      " 87%|████████▋ | 1096/1264 [06:37<01:00,  2.76it/s]"
     ]
    },
    {
     "name": "stdout",
     "output_type": "stream",
     "text": [
      "INFO:spleeter:File /hdd_data/datasets/audio/unlabeled_data_separation/ZNVUXGCN/vocals.wav written succesfully\n",
      "INFO:spleeter:File /hdd_data/datasets/audio/unlabeled_data_separation/ZNVUXGCN/accompaniment.wav written succesfully\n"
     ]
    },
    {
     "name": "stderr",
     "output_type": "stream",
     "text": [
      " 87%|████████▋ | 1097/1264 [06:37<01:00,  2.78it/s]"
     ]
    },
    {
     "name": "stdout",
     "output_type": "stream",
     "text": [
      "INFO:spleeter:File /hdd_data/datasets/audio/unlabeled_data_separation/MMOCHGGP/vocals.wav written succesfully\n",
      "INFO:spleeter:File /hdd_data/datasets/audio/unlabeled_data_separation/MMOCHGGP/accompaniment.wav written succesfully\n"
     ]
    },
    {
     "name": "stderr",
     "output_type": "stream",
     "text": [
      " 87%|████████▋ | 1098/1264 [06:38<00:59,  2.79it/s]"
     ]
    },
    {
     "name": "stdout",
     "output_type": "stream",
     "text": [
      "INFO:spleeter:File /hdd_data/datasets/audio/unlabeled_data_separation/HPLEPGXU/vocals.wav written succesfully\n",
      "INFO:spleeter:File /hdd_data/datasets/audio/unlabeled_data_separation/HPLEPGXU/accompaniment.wav written succesfully\n"
     ]
    },
    {
     "name": "stderr",
     "output_type": "stream",
     "text": [
      " 87%|████████▋ | 1099/1264 [06:38<00:59,  2.78it/s]"
     ]
    },
    {
     "name": "stdout",
     "output_type": "stream",
     "text": [
      "INFO:spleeter:File /hdd_data/datasets/audio/unlabeled_data_separation/JQZTXZMK/vocals.wav written succesfully\n",
      "INFO:spleeter:File /hdd_data/datasets/audio/unlabeled_data_separation/JQZTXZMK/accompaniment.wav written succesfully\n"
     ]
    },
    {
     "name": "stderr",
     "output_type": "stream",
     "text": [
      " 87%|████████▋ | 1100/1264 [06:39<00:59,  2.74it/s]"
     ]
    },
    {
     "name": "stdout",
     "output_type": "stream",
     "text": [
      "INFO:spleeter:File /hdd_data/datasets/audio/unlabeled_data_separation/UMDTIYYV/vocals.wav written succesfully\n",
      "INFO:spleeter:File /hdd_data/datasets/audio/unlabeled_data_separation/UMDTIYYV/accompaniment.wav written succesfully\n"
     ]
    },
    {
     "name": "stderr",
     "output_type": "stream",
     "text": [
      " 87%|████████▋ | 1101/1264 [06:39<00:59,  2.73it/s]"
     ]
    },
    {
     "name": "stdout",
     "output_type": "stream",
     "text": [
      "INFO:spleeter:File /hdd_data/datasets/audio/unlabeled_data_separation/ZFYZTAUG/accompaniment.wav written succesfully\n",
      "INFO:spleeter:File /hdd_data/datasets/audio/unlabeled_data_separation/ZFYZTAUG/vocals.wav written succesfully\n"
     ]
    },
    {
     "name": "stderr",
     "output_type": "stream",
     "text": [
      " 87%|████████▋ | 1102/1264 [06:39<01:00,  2.67it/s]"
     ]
    },
    {
     "name": "stdout",
     "output_type": "stream",
     "text": [
      "INFO:spleeter:File /hdd_data/datasets/audio/unlabeled_data_separation/DBBLZMHF/vocals.wav written succesfully\n",
      "INFO:spleeter:File /hdd_data/datasets/audio/unlabeled_data_separation/DBBLZMHF/accompaniment.wav written succesfully\n"
     ]
    },
    {
     "name": "stderr",
     "output_type": "stream",
     "text": [
      " 87%|████████▋ | 1103/1264 [06:40<00:59,  2.71it/s]"
     ]
    },
    {
     "name": "stdout",
     "output_type": "stream",
     "text": [
      "INFO:spleeter:File /hdd_data/datasets/audio/unlabeled_data_separation/QIJRXBZM/vocals.wav written succesfully\n",
      "INFO:spleeter:File /hdd_data/datasets/audio/unlabeled_data_separation/QIJRXBZM/accompaniment.wav written succesfully\n"
     ]
    },
    {
     "name": "stderr",
     "output_type": "stream",
     "text": [
      " 87%|████████▋ | 1104/1264 [06:40<00:58,  2.75it/s]"
     ]
    },
    {
     "name": "stdout",
     "output_type": "stream",
     "text": [
      "INFO:spleeter:File /hdd_data/datasets/audio/unlabeled_data_separation/MXBDRAYR/vocals.wav written succesfully\n",
      "INFO:spleeter:File /hdd_data/datasets/audio/unlabeled_data_separation/MXBDRAYR/accompaniment.wav written succesfully\n"
     ]
    },
    {
     "name": "stderr",
     "output_type": "stream",
     "text": [
      " 87%|████████▋ | 1105/1264 [06:40<00:58,  2.74it/s]"
     ]
    },
    {
     "name": "stdout",
     "output_type": "stream",
     "text": [
      "INFO:spleeter:File /hdd_data/datasets/audio/unlabeled_data_separation/SKEPRELQ/vocals.wav written succesfully\n",
      "INFO:spleeter:File /hdd_data/datasets/audio/unlabeled_data_separation/SKEPRELQ/accompaniment.wav written succesfully\n"
     ]
    },
    {
     "name": "stderr",
     "output_type": "stream",
     "text": [
      " 88%|████████▊ | 1106/1264 [06:41<00:56,  2.79it/s]"
     ]
    },
    {
     "name": "stdout",
     "output_type": "stream",
     "text": [
      "INFO:spleeter:File /hdd_data/datasets/audio/unlabeled_data_separation/VWGTAFKG/accompaniment.wav written succesfully\n",
      "INFO:spleeter:File /hdd_data/datasets/audio/unlabeled_data_separation/VWGTAFKG/vocals.wav written succesfully\n"
     ]
    },
    {
     "name": "stderr",
     "output_type": "stream",
     "text": [
      " 88%|████████▊ | 1107/1264 [06:41<00:56,  2.77it/s]"
     ]
    },
    {
     "name": "stdout",
     "output_type": "stream",
     "text": [
      "INFO:spleeter:File /hdd_data/datasets/audio/unlabeled_data_separation/GYAWELXB/vocals.wav written succesfully\n",
      "INFO:spleeter:File /hdd_data/datasets/audio/unlabeled_data_separation/GYAWELXB/accompaniment.wav written succesfully\n"
     ]
    },
    {
     "name": "stderr",
     "output_type": "stream",
     "text": [
      " 88%|████████▊ | 1108/1264 [06:42<00:57,  2.72it/s]"
     ]
    },
    {
     "name": "stdout",
     "output_type": "stream",
     "text": [
      "INFO:spleeter:File /hdd_data/datasets/audio/unlabeled_data_separation/KDEXQYRQ/vocals.wav written succesfully\n",
      "INFO:spleeter:File /hdd_data/datasets/audio/unlabeled_data_separation/KDEXQYRQ/accompaniment.wav written succesfully\n"
     ]
    },
    {
     "name": "stderr",
     "output_type": "stream",
     "text": [
      " 88%|████████▊ | 1109/1264 [06:42<00:56,  2.74it/s]"
     ]
    },
    {
     "name": "stdout",
     "output_type": "stream",
     "text": [
      "INFO:spleeter:File /hdd_data/datasets/audio/unlabeled_data_separation/LWINRQVF/vocals.wav written succesfully\n",
      "INFO:spleeter:File /hdd_data/datasets/audio/unlabeled_data_separation/LWINRQVF/accompaniment.wav written succesfully\n"
     ]
    },
    {
     "name": "stderr",
     "output_type": "stream",
     "text": [
      " 88%|████████▊ | 1110/1264 [06:42<00:56,  2.71it/s]"
     ]
    },
    {
     "name": "stdout",
     "output_type": "stream",
     "text": [
      "INFO:spleeter:File /hdd_data/datasets/audio/unlabeled_data_separation/EJAKQAOU/vocals.wav written succesfully\n",
      "INFO:spleeter:File /hdd_data/datasets/audio/unlabeled_data_separation/EJAKQAOU/accompaniment.wav written succesfully\n"
     ]
    },
    {
     "name": "stderr",
     "output_type": "stream",
     "text": [
      " 88%|████████▊ | 1111/1264 [06:43<00:55,  2.76it/s]"
     ]
    },
    {
     "name": "stdout",
     "output_type": "stream",
     "text": [
      "INFO:spleeter:File /hdd_data/datasets/audio/unlabeled_data_separation/FXFCMSAD/accompaniment.wav written succesfully\n",
      "INFO:spleeter:File /hdd_data/datasets/audio/unlabeled_data_separation/FXFCMSAD/vocals.wav written succesfully\n"
     ]
    },
    {
     "name": "stderr",
     "output_type": "stream",
     "text": [
      " 88%|████████▊ | 1112/1264 [06:43<00:55,  2.76it/s]"
     ]
    },
    {
     "name": "stdout",
     "output_type": "stream",
     "text": [
      "INFO:spleeter:File /hdd_data/datasets/audio/unlabeled_data_separation/DENTYQPQ/accompaniment.wav written succesfully\n",
      "INFO:spleeter:File /hdd_data/datasets/audio/unlabeled_data_separation/DENTYQPQ/vocals.wav written succesfully\n"
     ]
    },
    {
     "name": "stderr",
     "output_type": "stream",
     "text": [
      " 88%|████████▊ | 1113/1264 [06:43<00:54,  2.77it/s]"
     ]
    },
    {
     "name": "stdout",
     "output_type": "stream",
     "text": [
      "INFO:spleeter:File /hdd_data/datasets/audio/unlabeled_data_separation/OAUOJCIE/accompaniment.wav written succesfully\n",
      "INFO:spleeter:File /hdd_data/datasets/audio/unlabeled_data_separation/OAUOJCIE/vocals.wav written succesfully\n"
     ]
    },
    {
     "name": "stderr",
     "output_type": "stream",
     "text": [
      " 88%|████████▊ | 1114/1264 [06:44<00:54,  2.75it/s]"
     ]
    },
    {
     "name": "stdout",
     "output_type": "stream",
     "text": [
      "INFO:spleeter:File /hdd_data/datasets/audio/unlabeled_data_separation/XKZIOIIT/vocals.wav written succesfully\n",
      "INFO:spleeter:File /hdd_data/datasets/audio/unlabeled_data_separation/XKZIOIIT/accompaniment.wav written succesfully\n"
     ]
    },
    {
     "name": "stderr",
     "output_type": "stream",
     "text": [
      " 88%|████████▊ | 1115/1264 [06:44<00:53,  2.80it/s]"
     ]
    },
    {
     "name": "stdout",
     "output_type": "stream",
     "text": [
      "INFO:spleeter:File /hdd_data/datasets/audio/unlabeled_data_separation/RCIKRYFA/vocals.wav written succesfully\n",
      "INFO:spleeter:File /hdd_data/datasets/audio/unlabeled_data_separation/RCIKRYFA/accompaniment.wav written succesfully\n"
     ]
    },
    {
     "name": "stderr",
     "output_type": "stream",
     "text": [
      " 88%|████████▊ | 1116/1264 [06:44<00:52,  2.82it/s]"
     ]
    },
    {
     "name": "stdout",
     "output_type": "stream",
     "text": [
      "INFO:spleeter:File /hdd_data/datasets/audio/unlabeled_data_separation/IVPTMEBQ/vocals.wav written succesfully\n",
      "INFO:spleeter:File /hdd_data/datasets/audio/unlabeled_data_separation/IVPTMEBQ/accompaniment.wav written succesfully\n"
     ]
    },
    {
     "name": "stderr",
     "output_type": "stream",
     "text": [
      " 88%|████████▊ | 1117/1264 [06:45<00:52,  2.80it/s]"
     ]
    },
    {
     "name": "stdout",
     "output_type": "stream",
     "text": [
      "INFO:spleeter:File /hdd_data/datasets/audio/unlabeled_data_separation/IGODPWRD/accompaniment.wav written succesfully\n",
      "INFO:spleeter:File /hdd_data/datasets/audio/unlabeled_data_separation/IGODPWRD/vocals.wav written succesfully\n"
     ]
    },
    {
     "name": "stderr",
     "output_type": "stream",
     "text": [
      " 88%|████████▊ | 1118/1264 [06:45<00:52,  2.79it/s]"
     ]
    },
    {
     "name": "stdout",
     "output_type": "stream",
     "text": [
      "INFO:spleeter:File /hdd_data/datasets/audio/unlabeled_data_separation/XIBFCQOV/vocals.wav written succesfully\n",
      "INFO:spleeter:File /hdd_data/datasets/audio/unlabeled_data_separation/XIBFCQOV/accompaniment.wav written succesfully\n"
     ]
    },
    {
     "name": "stderr",
     "output_type": "stream",
     "text": [
      " 89%|████████▊ | 1119/1264 [06:45<00:52,  2.78it/s]"
     ]
    },
    {
     "name": "stdout",
     "output_type": "stream",
     "text": [
      "INFO:spleeter:File /hdd_data/datasets/audio/unlabeled_data_separation/VEAFXYZI/accompaniment.wav written succesfully\n",
      "INFO:spleeter:File /hdd_data/datasets/audio/unlabeled_data_separation/VEAFXYZI/vocals.wav written succesfully\n"
     ]
    },
    {
     "name": "stderr",
     "output_type": "stream",
     "text": [
      " 89%|████████▊ | 1120/1264 [06:46<00:51,  2.79it/s]"
     ]
    },
    {
     "name": "stdout",
     "output_type": "stream",
     "text": [
      "INFO:spleeter:File /hdd_data/datasets/audio/unlabeled_data_separation/GSYDRSKJ/accompaniment.wav written succesfully\n",
      "INFO:spleeter:File /hdd_data/datasets/audio/unlabeled_data_separation/GSYDRSKJ/vocals.wav written succesfully\n"
     ]
    },
    {
     "name": "stderr",
     "output_type": "stream",
     "text": [
      " 89%|████████▊ | 1121/1264 [06:46<00:51,  2.79it/s]"
     ]
    },
    {
     "name": "stdout",
     "output_type": "stream",
     "text": [
      "INFO:spleeter:File /hdd_data/datasets/audio/unlabeled_data_separation/VJVDXWPE/accompaniment.wav written succesfully\n",
      "INFO:spleeter:File /hdd_data/datasets/audio/unlabeled_data_separation/VJVDXWPE/vocals.wav written succesfully\n"
     ]
    },
    {
     "name": "stderr",
     "output_type": "stream",
     "text": [
      " 89%|████████▉ | 1122/1264 [06:47<00:51,  2.76it/s]"
     ]
    },
    {
     "name": "stdout",
     "output_type": "stream",
     "text": [
      "INFO:spleeter:File /hdd_data/datasets/audio/unlabeled_data_separation/CXCJQULR/vocals.wav written succesfully\n",
      "INFO:spleeter:File /hdd_data/datasets/audio/unlabeled_data_separation/CXCJQULR/accompaniment.wav written succesfully\n"
     ]
    },
    {
     "name": "stderr",
     "output_type": "stream",
     "text": [
      " 89%|████████▉ | 1123/1264 [06:47<00:50,  2.79it/s]"
     ]
    },
    {
     "name": "stdout",
     "output_type": "stream",
     "text": [
      "INFO:spleeter:File /hdd_data/datasets/audio/unlabeled_data_separation/AZBRITWM/accompaniment.wav written succesfully\n",
      "INFO:spleeter:File /hdd_data/datasets/audio/unlabeled_data_separation/AZBRITWM/vocals.wav written succesfully\n"
     ]
    },
    {
     "name": "stderr",
     "output_type": "stream",
     "text": [
      " 89%|████████▉ | 1124/1264 [06:47<00:50,  2.76it/s]"
     ]
    },
    {
     "name": "stdout",
     "output_type": "stream",
     "text": [
      "INFO:spleeter:File /hdd_data/datasets/audio/unlabeled_data_separation/GJNSVOZO/vocals.wav written succesfully\n",
      "INFO:spleeter:File /hdd_data/datasets/audio/unlabeled_data_separation/GJNSVOZO/accompaniment.wav written succesfully\n"
     ]
    },
    {
     "name": "stderr",
     "output_type": "stream",
     "text": [
      " 89%|████████▉ | 1125/1264 [06:48<00:50,  2.76it/s]"
     ]
    },
    {
     "name": "stdout",
     "output_type": "stream",
     "text": [
      "INFO:spleeter:File /hdd_data/datasets/audio/unlabeled_data_separation/INRLOCJK/vocals.wav written succesfully\n",
      "INFO:spleeter:File /hdd_data/datasets/audio/unlabeled_data_separation/INRLOCJK/accompaniment.wav written succesfully\n"
     ]
    },
    {
     "name": "stderr",
     "output_type": "stream",
     "text": [
      " 89%|████████▉ | 1126/1264 [06:48<00:50,  2.72it/s]"
     ]
    },
    {
     "name": "stdout",
     "output_type": "stream",
     "text": [
      "INFO:spleeter:File /hdd_data/datasets/audio/unlabeled_data_separation/AJEUSDFU/accompaniment.wav written succesfully\n",
      "INFO:spleeter:File /hdd_data/datasets/audio/unlabeled_data_separation/AJEUSDFU/vocals.wav written succesfully\n"
     ]
    },
    {
     "name": "stderr",
     "output_type": "stream",
     "text": [
      " 89%|████████▉ | 1127/1264 [06:48<00:50,  2.72it/s]"
     ]
    },
    {
     "name": "stdout",
     "output_type": "stream",
     "text": [
      "INFO:spleeter:File /hdd_data/datasets/audio/unlabeled_data_separation/TBNBRLNS/accompaniment.wav written succesfully\n",
      "INFO:spleeter:File /hdd_data/datasets/audio/unlabeled_data_separation/TBNBRLNS/vocals.wav written succesfully\n"
     ]
    },
    {
     "name": "stderr",
     "output_type": "stream",
     "text": [
      " 89%|████████▉ | 1128/1264 [06:49<00:49,  2.74it/s]"
     ]
    },
    {
     "name": "stdout",
     "output_type": "stream",
     "text": [
      "INFO:spleeter:File /hdd_data/datasets/audio/unlabeled_data_separation/QGMALJEA/vocals.wav written succesfully\n",
      "INFO:spleeter:File /hdd_data/datasets/audio/unlabeled_data_separation/QGMALJEA/accompaniment.wav written succesfully\n"
     ]
    },
    {
     "name": "stderr",
     "output_type": "stream",
     "text": [
      " 89%|████████▉ | 1129/1264 [06:49<00:48,  2.77it/s]"
     ]
    },
    {
     "name": "stdout",
     "output_type": "stream",
     "text": [
      "INFO:spleeter:File /hdd_data/datasets/audio/unlabeled_data_separation/BVDCUHZE/vocals.wav written succesfully\n",
      "INFO:spleeter:File /hdd_data/datasets/audio/unlabeled_data_separation/BVDCUHZE/accompaniment.wav written succesfully\n"
     ]
    },
    {
     "name": "stderr",
     "output_type": "stream",
     "text": [
      " 89%|████████▉ | 1130/1264 [06:49<00:47,  2.80it/s]"
     ]
    },
    {
     "name": "stdout",
     "output_type": "stream",
     "text": [
      "INFO:spleeter:File /hdd_data/datasets/audio/unlabeled_data_separation/AETOGJEL/vocals.wav written succesfully\n",
      "INFO:spleeter:File /hdd_data/datasets/audio/unlabeled_data_separation/AETOGJEL/accompaniment.wav written succesfully\n"
     ]
    },
    {
     "name": "stderr",
     "output_type": "stream",
     "text": [
      " 89%|████████▉ | 1131/1264 [06:50<00:47,  2.80it/s]"
     ]
    },
    {
     "name": "stdout",
     "output_type": "stream",
     "text": [
      "INFO:spleeter:File /hdd_data/datasets/audio/unlabeled_data_separation/YMCDNIPI/accompaniment.wav written succesfully\n",
      "INFO:spleeter:File /hdd_data/datasets/audio/unlabeled_data_separation/YMCDNIPI/vocals.wav written succesfully\n"
     ]
    },
    {
     "name": "stderr",
     "output_type": "stream",
     "text": [
      " 90%|████████▉ | 1132/1264 [06:50<00:46,  2.81it/s]"
     ]
    },
    {
     "name": "stdout",
     "output_type": "stream",
     "text": [
      "INFO:spleeter:File /hdd_data/datasets/audio/unlabeled_data_separation/NQIMSGQA/accompaniment.wav written succesfully\n",
      "INFO:spleeter:File /hdd_data/datasets/audio/unlabeled_data_separation/NQIMSGQA/vocals.wav written succesfully\n"
     ]
    },
    {
     "name": "stderr",
     "output_type": "stream",
     "text": [
      " 90%|████████▉ | 1133/1264 [06:51<00:46,  2.80it/s]"
     ]
    },
    {
     "name": "stdout",
     "output_type": "stream",
     "text": [
      "INFO:spleeter:File /hdd_data/datasets/audio/unlabeled_data_separation/ZCSKRJDI/vocals.wav written succesfully\n",
      "INFO:spleeter:File /hdd_data/datasets/audio/unlabeled_data_separation/ZCSKRJDI/accompaniment.wav written succesfully\n"
     ]
    },
    {
     "name": "stderr",
     "output_type": "stream",
     "text": [
      " 90%|████████▉ | 1134/1264 [06:51<00:46,  2.79it/s]"
     ]
    },
    {
     "name": "stdout",
     "output_type": "stream",
     "text": [
      "INFO:spleeter:File /hdd_data/datasets/audio/unlabeled_data_separation/PBUPLZLB/accompaniment.wav written succesfully\n",
      "INFO:spleeter:File /hdd_data/datasets/audio/unlabeled_data_separation/PBUPLZLB/vocals.wav written succesfully\n"
     ]
    },
    {
     "name": "stderr",
     "output_type": "stream",
     "text": [
      " 90%|████████▉ | 1135/1264 [06:51<00:46,  2.75it/s]"
     ]
    },
    {
     "name": "stdout",
     "output_type": "stream",
     "text": [
      "INFO:spleeter:File /hdd_data/datasets/audio/unlabeled_data_separation/WSXDXKQL/accompaniment.wav written succesfully\n",
      "INFO:spleeter:File /hdd_data/datasets/audio/unlabeled_data_separation/WSXDXKQL/vocals.wav written succesfully\n"
     ]
    },
    {
     "name": "stderr",
     "output_type": "stream",
     "text": [
      " 90%|████████▉ | 1136/1264 [06:52<00:46,  2.77it/s]"
     ]
    },
    {
     "name": "stdout",
     "output_type": "stream",
     "text": [
      "INFO:spleeter:File /hdd_data/datasets/audio/unlabeled_data_separation/EYUWVNXX/vocals.wav written succesfully\n",
      "INFO:spleeter:File /hdd_data/datasets/audio/unlabeled_data_separation/EYUWVNXX/accompaniment.wav written succesfully\n"
     ]
    },
    {
     "name": "stderr",
     "output_type": "stream",
     "text": [
      " 90%|████████▉ | 1137/1264 [06:52<00:45,  2.76it/s]"
     ]
    },
    {
     "name": "stdout",
     "output_type": "stream",
     "text": [
      "INFO:spleeter:File /hdd_data/datasets/audio/unlabeled_data_separation/XNTMGSZN/accompaniment.wav written succesfully\n",
      "INFO:spleeter:File /hdd_data/datasets/audio/unlabeled_data_separation/XNTMGSZN/vocals.wav written succesfully\n"
     ]
    },
    {
     "name": "stderr",
     "output_type": "stream",
     "text": [
      " 90%|█████████ | 1138/1264 [06:52<00:45,  2.80it/s]"
     ]
    },
    {
     "name": "stdout",
     "output_type": "stream",
     "text": [
      "INFO:spleeter:File /hdd_data/datasets/audio/unlabeled_data_separation/LYXZFYVC/vocals.wav written succesfully\n",
      "INFO:spleeter:File /hdd_data/datasets/audio/unlabeled_data_separation/LYXZFYVC/accompaniment.wav written succesfully\n"
     ]
    },
    {
     "name": "stderr",
     "output_type": "stream",
     "text": [
      " 90%|█████████ | 1139/1264 [06:53<00:44,  2.82it/s]"
     ]
    },
    {
     "name": "stdout",
     "output_type": "stream",
     "text": [
      "INFO:spleeter:File /hdd_data/datasets/audio/unlabeled_data_separation/EOVNLVEZ/accompaniment.wav written succesfully\n",
      "INFO:spleeter:File /hdd_data/datasets/audio/unlabeled_data_separation/EOVNLVEZ/vocals.wav written succesfully\n"
     ]
    },
    {
     "name": "stderr",
     "output_type": "stream",
     "text": [
      " 90%|█████████ | 1140/1264 [06:53<00:43,  2.85it/s]"
     ]
    },
    {
     "name": "stdout",
     "output_type": "stream",
     "text": [
      "INFO:spleeter:File /hdd_data/datasets/audio/unlabeled_data_separation/HIMDWADF/vocals.wav written succesfully\n",
      "INFO:spleeter:File /hdd_data/datasets/audio/unlabeled_data_separation/HIMDWADF/accompaniment.wav written succesfully\n"
     ]
    },
    {
     "name": "stderr",
     "output_type": "stream",
     "text": [
      " 90%|█████████ | 1141/1264 [06:53<00:43,  2.84it/s]"
     ]
    },
    {
     "name": "stdout",
     "output_type": "stream",
     "text": [
      "INFO:spleeter:File /hdd_data/datasets/audio/unlabeled_data_separation/LBJCZDMP/vocals.wav written succesfully\n",
      "INFO:spleeter:File /hdd_data/datasets/audio/unlabeled_data_separation/LBJCZDMP/accompaniment.wav written succesfully\n"
     ]
    },
    {
     "name": "stderr",
     "output_type": "stream",
     "text": [
      " 90%|█████████ | 1142/1264 [06:54<00:43,  2.81it/s]"
     ]
    },
    {
     "name": "stdout",
     "output_type": "stream",
     "text": [
      "INFO:spleeter:File /hdd_data/datasets/audio/unlabeled_data_separation/AHHFPCPB/vocals.wav written succesfully\n",
      "INFO:spleeter:File /hdd_data/datasets/audio/unlabeled_data_separation/AHHFPCPB/accompaniment.wav written succesfully\n"
     ]
    },
    {
     "name": "stderr",
     "output_type": "stream",
     "text": [
      " 90%|█████████ | 1143/1264 [06:54<00:43,  2.80it/s]"
     ]
    },
    {
     "name": "stdout",
     "output_type": "stream",
     "text": [
      "INFO:spleeter:File /hdd_data/datasets/audio/unlabeled_data_separation/GEEAAQLZ/vocals.wav written succesfully\n",
      "INFO:spleeter:File /hdd_data/datasets/audio/unlabeled_data_separation/GEEAAQLZ/accompaniment.wav written succesfully\n"
     ]
    },
    {
     "name": "stderr",
     "output_type": "stream",
     "text": [
      " 91%|█████████ | 1144/1264 [06:54<00:43,  2.78it/s]"
     ]
    },
    {
     "name": "stdout",
     "output_type": "stream",
     "text": [
      "INFO:spleeter:File /hdd_data/datasets/audio/unlabeled_data_separation/IWPRKQGA/accompaniment.wav written succesfully\n",
      "INFO:spleeter:File /hdd_data/datasets/audio/unlabeled_data_separation/IWPRKQGA/vocals.wav written succesfully\n"
     ]
    },
    {
     "name": "stderr",
     "output_type": "stream",
     "text": [
      " 91%|█████████ | 1145/1264 [06:55<00:42,  2.79it/s]"
     ]
    },
    {
     "name": "stdout",
     "output_type": "stream",
     "text": [
      "INFO:spleeter:File /hdd_data/datasets/audio/unlabeled_data_separation/BDHSWTSL/vocals.wav written succesfully\n",
      "INFO:spleeter:File /hdd_data/datasets/audio/unlabeled_data_separation/BDHSWTSL/accompaniment.wav written succesfully\n"
     ]
    },
    {
     "name": "stderr",
     "output_type": "stream",
     "text": [
      " 91%|█████████ | 1146/1264 [06:55<00:42,  2.80it/s]"
     ]
    },
    {
     "name": "stdout",
     "output_type": "stream",
     "text": [
      "INFO:spleeter:File /hdd_data/datasets/audio/unlabeled_data_separation/TXHCIBUE/vocals.wav written succesfully\n",
      "INFO:spleeter:File /hdd_data/datasets/audio/unlabeled_data_separation/TXHCIBUE/accompaniment.wav written succesfully\n"
     ]
    },
    {
     "name": "stderr",
     "output_type": "stream",
     "text": [
      " 91%|█████████ | 1147/1264 [06:56<00:41,  2.80it/s]"
     ]
    },
    {
     "name": "stdout",
     "output_type": "stream",
     "text": [
      "INFO:spleeter:File /hdd_data/datasets/audio/unlabeled_data_separation/KVFHECAA/accompaniment.wav written succesfully\n",
      "INFO:spleeter:File /hdd_data/datasets/audio/unlabeled_data_separation/KVFHECAA/vocals.wav written succesfully\n"
     ]
    },
    {
     "name": "stderr",
     "output_type": "stream",
     "text": [
      " 91%|█████████ | 1148/1264 [06:56<00:41,  2.77it/s]"
     ]
    },
    {
     "name": "stdout",
     "output_type": "stream",
     "text": [
      "INFO:spleeter:File /hdd_data/datasets/audio/unlabeled_data_separation/RXNPZSQK/accompaniment.wav written succesfully\n",
      "INFO:spleeter:File /hdd_data/datasets/audio/unlabeled_data_separation/RXNPZSQK/vocals.wav written succesfully\n"
     ]
    },
    {
     "name": "stderr",
     "output_type": "stream",
     "text": [
      " 91%|█████████ | 1149/1264 [06:56<00:41,  2.78it/s]"
     ]
    },
    {
     "name": "stdout",
     "output_type": "stream",
     "text": [
      "INFO:spleeter:File /hdd_data/datasets/audio/unlabeled_data_separation/DCPOOALC/accompaniment.wav written succesfully\n",
      "INFO:spleeter:File /hdd_data/datasets/audio/unlabeled_data_separation/DCPOOALC/vocals.wav written succesfully\n"
     ]
    },
    {
     "name": "stderr",
     "output_type": "stream",
     "text": [
      " 91%|█████████ | 1150/1264 [06:57<00:40,  2.81it/s]"
     ]
    },
    {
     "name": "stdout",
     "output_type": "stream",
     "text": [
      "INFO:spleeter:File /hdd_data/datasets/audio/unlabeled_data_separation/YCBGJALR/accompaniment.wav written succesfully\n",
      "INFO:spleeter:File /hdd_data/datasets/audio/unlabeled_data_separation/YCBGJALR/vocals.wav written succesfully\n"
     ]
    },
    {
     "name": "stderr",
     "output_type": "stream",
     "text": [
      " 91%|█████████ | 1151/1264 [06:57<00:40,  2.80it/s]"
     ]
    },
    {
     "name": "stdout",
     "output_type": "stream",
     "text": [
      "INFO:spleeter:File /hdd_data/datasets/audio/unlabeled_data_separation/UNBBGUAK/accompaniment.wav written succesfully\n",
      "INFO:spleeter:File /hdd_data/datasets/audio/unlabeled_data_separation/UNBBGUAK/vocals.wav written succesfully\n"
     ]
    },
    {
     "name": "stderr",
     "output_type": "stream",
     "text": [
      " 91%|█████████ | 1152/1264 [06:57<00:40,  2.79it/s]"
     ]
    },
    {
     "name": "stdout",
     "output_type": "stream",
     "text": [
      "INFO:spleeter:File /hdd_data/datasets/audio/unlabeled_data_separation/FZRFOYKB/vocals.wav written succesfully\n",
      "INFO:spleeter:File /hdd_data/datasets/audio/unlabeled_data_separation/FZRFOYKB/accompaniment.wav written succesfully\n"
     ]
    },
    {
     "name": "stderr",
     "output_type": "stream",
     "text": [
      " 91%|█████████ | 1153/1264 [06:58<00:39,  2.78it/s]"
     ]
    },
    {
     "name": "stdout",
     "output_type": "stream",
     "text": [
      "INFO:spleeter:File /hdd_data/datasets/audio/unlabeled_data_separation/XQTYVNEB/vocals.wav written succesfully\n",
      "INFO:spleeter:File /hdd_data/datasets/audio/unlabeled_data_separation/XQTYVNEB/accompaniment.wav written succesfully\n"
     ]
    },
    {
     "name": "stderr",
     "output_type": "stream",
     "text": [
      " 91%|█████████▏| 1154/1264 [06:58<00:39,  2.78it/s]"
     ]
    },
    {
     "name": "stdout",
     "output_type": "stream",
     "text": [
      "INFO:spleeter:File /hdd_data/datasets/audio/unlabeled_data_separation/AJHEAGQS/accompaniment.wav written succesfully\n",
      "INFO:spleeter:File /hdd_data/datasets/audio/unlabeled_data_separation/AJHEAGQS/vocals.wav written succesfully\n"
     ]
    },
    {
     "name": "stderr",
     "output_type": "stream",
     "text": [
      " 91%|█████████▏| 1155/1264 [06:58<00:39,  2.79it/s]"
     ]
    },
    {
     "name": "stdout",
     "output_type": "stream",
     "text": [
      "INFO:spleeter:File /hdd_data/datasets/audio/unlabeled_data_separation/JFTFXXDO/vocals.wav written succesfully\n",
      "INFO:spleeter:File /hdd_data/datasets/audio/unlabeled_data_separation/JFTFXXDO/accompaniment.wav written succesfully\n"
     ]
    },
    {
     "name": "stderr",
     "output_type": "stream",
     "text": [
      " 91%|█████████▏| 1156/1264 [06:59<00:38,  2.79it/s]"
     ]
    },
    {
     "name": "stdout",
     "output_type": "stream",
     "text": [
      "INFO:spleeter:File /hdd_data/datasets/audio/unlabeled_data_separation/BCFCIBHG/accompaniment.wav written succesfully\n",
      "INFO:spleeter:File /hdd_data/datasets/audio/unlabeled_data_separation/BCFCIBHG/vocals.wav written succesfully\n"
     ]
    },
    {
     "name": "stderr",
     "output_type": "stream",
     "text": [
      " 92%|█████████▏| 1157/1264 [06:59<00:38,  2.80it/s]"
     ]
    },
    {
     "name": "stdout",
     "output_type": "stream",
     "text": [
      "INFO:spleeter:File /hdd_data/datasets/audio/unlabeled_data_separation/WTQTCYGH/accompaniment.wav written succesfully\n",
      "INFO:spleeter:File /hdd_data/datasets/audio/unlabeled_data_separation/WTQTCYGH/vocals.wav written succesfully\n"
     ]
    },
    {
     "name": "stderr",
     "output_type": "stream",
     "text": [
      " 92%|█████████▏| 1158/1264 [06:59<00:37,  2.82it/s]"
     ]
    },
    {
     "name": "stdout",
     "output_type": "stream",
     "text": [
      "INFO:spleeter:File /hdd_data/datasets/audio/unlabeled_data_separation/NMNSHFQX/accompaniment.wav written succesfully\n",
      "INFO:spleeter:File /hdd_data/datasets/audio/unlabeled_data_separation/NMNSHFQX/vocals.wav written succesfully\n"
     ]
    },
    {
     "name": "stderr",
     "output_type": "stream",
     "text": [
      " 92%|█████████▏| 1159/1264 [07:00<00:37,  2.81it/s]"
     ]
    },
    {
     "name": "stdout",
     "output_type": "stream",
     "text": [
      "INFO:spleeter:File /hdd_data/datasets/audio/unlabeled_data_separation/DIPWFPEY/accompaniment.wav written succesfully\n",
      "INFO:spleeter:File /hdd_data/datasets/audio/unlabeled_data_separation/DIPWFPEY/vocals.wav written succesfully\n"
     ]
    },
    {
     "name": "stderr",
     "output_type": "stream",
     "text": [
      " 92%|█████████▏| 1160/1264 [07:00<00:37,  2.81it/s]"
     ]
    },
    {
     "name": "stdout",
     "output_type": "stream",
     "text": [
      "INFO:spleeter:File /hdd_data/datasets/audio/unlabeled_data_separation/RGVLGGRM/vocals.wav written succesfully\n",
      "INFO:spleeter:File /hdd_data/datasets/audio/unlabeled_data_separation/RGVLGGRM/accompaniment.wav written succesfully\n"
     ]
    },
    {
     "name": "stderr",
     "output_type": "stream",
     "text": [
      " 92%|█████████▏| 1161/1264 [07:01<00:37,  2.78it/s]"
     ]
    },
    {
     "name": "stdout",
     "output_type": "stream",
     "text": [
      "INFO:spleeter:File /hdd_data/datasets/audio/unlabeled_data_separation/ZSIDQYPY/accompaniment.wav written succesfully\n",
      "INFO:spleeter:File /hdd_data/datasets/audio/unlabeled_data_separation/ZSIDQYPY/vocals.wav written succesfully\n"
     ]
    },
    {
     "name": "stderr",
     "output_type": "stream",
     "text": [
      " 92%|█████████▏| 1162/1264 [07:01<00:36,  2.78it/s]"
     ]
    },
    {
     "name": "stdout",
     "output_type": "stream",
     "text": [
      "INFO:spleeter:File /hdd_data/datasets/audio/unlabeled_data_separation/EHVESDHD/accompaniment.wav written succesfully\n",
      "INFO:spleeter:File /hdd_data/datasets/audio/unlabeled_data_separation/EHVESDHD/vocals.wav written succesfully\n"
     ]
    },
    {
     "name": "stderr",
     "output_type": "stream",
     "text": [
      " 92%|█████████▏| 1163/1264 [07:01<00:36,  2.79it/s]"
     ]
    },
    {
     "name": "stdout",
     "output_type": "stream",
     "text": [
      "INFO:spleeter:File /hdd_data/datasets/audio/unlabeled_data_separation/JYJAGTWP/accompaniment.wav written succesfully\n",
      "INFO:spleeter:File /hdd_data/datasets/audio/unlabeled_data_separation/JYJAGTWP/vocals.wav written succesfully\n"
     ]
    },
    {
     "name": "stderr",
     "output_type": "stream",
     "text": [
      " 92%|█████████▏| 1164/1264 [07:02<00:35,  2.80it/s]"
     ]
    },
    {
     "name": "stdout",
     "output_type": "stream",
     "text": [
      "INFO:spleeter:File /hdd_data/datasets/audio/unlabeled_data_separation/LAKFPLNY/vocals.wav written succesfully\n",
      "INFO:spleeter:File /hdd_data/datasets/audio/unlabeled_data_separation/LAKFPLNY/accompaniment.wav written succesfully\n"
     ]
    },
    {
     "name": "stderr",
     "output_type": "stream",
     "text": [
      " 92%|█████████▏| 1165/1264 [07:02<00:35,  2.78it/s]"
     ]
    },
    {
     "name": "stdout",
     "output_type": "stream",
     "text": [
      "INFO:spleeter:File /hdd_data/datasets/audio/unlabeled_data_separation/KQCWDURX/vocals.wav written succesfully\n",
      "INFO:spleeter:File /hdd_data/datasets/audio/unlabeled_data_separation/KQCWDURX/accompaniment.wav written succesfully\n"
     ]
    },
    {
     "name": "stderr",
     "output_type": "stream",
     "text": [
      " 92%|█████████▏| 1166/1264 [07:02<00:35,  2.78it/s]"
     ]
    },
    {
     "name": "stdout",
     "output_type": "stream",
     "text": [
      "INFO:spleeter:File /hdd_data/datasets/audio/unlabeled_data_separation/RXMKSBLT/accompaniment.wav written succesfully\n",
      "INFO:spleeter:File /hdd_data/datasets/audio/unlabeled_data_separation/RXMKSBLT/vocals.wav written succesfully\n"
     ]
    },
    {
     "name": "stderr",
     "output_type": "stream",
     "text": [
      " 92%|█████████▏| 1167/1264 [07:03<00:34,  2.82it/s]"
     ]
    },
    {
     "name": "stdout",
     "output_type": "stream",
     "text": [
      "INFO:spleeter:File /hdd_data/datasets/audio/unlabeled_data_separation/XWDVISEC/vocals.wav written succesfully\n",
      "INFO:spleeter:File /hdd_data/datasets/audio/unlabeled_data_separation/XWDVISEC/accompaniment.wav written succesfully\n"
     ]
    },
    {
     "name": "stderr",
     "output_type": "stream",
     "text": [
      " 92%|█████████▏| 1168/1264 [07:03<00:33,  2.84it/s]"
     ]
    },
    {
     "name": "stdout",
     "output_type": "stream",
     "text": [
      "INFO:spleeter:File /hdd_data/datasets/audio/unlabeled_data_separation/PKJIPGIQ/accompaniment.wav written succesfully\n",
      "INFO:spleeter:File /hdd_data/datasets/audio/unlabeled_data_separation/PKJIPGIQ/vocals.wav written succesfully\n"
     ]
    },
    {
     "name": "stderr",
     "output_type": "stream",
     "text": [
      " 92%|█████████▏| 1169/1264 [07:03<00:33,  2.83it/s]"
     ]
    },
    {
     "name": "stdout",
     "output_type": "stream",
     "text": [
      "INFO:spleeter:File /hdd_data/datasets/audio/unlabeled_data_separation/WWDTCXJU/accompaniment.wav written succesfully\n",
      "INFO:spleeter:File /hdd_data/datasets/audio/unlabeled_data_separation/WWDTCXJU/vocals.wav written succesfully\n"
     ]
    },
    {
     "name": "stderr",
     "output_type": "stream",
     "text": [
      " 93%|█████████▎| 1170/1264 [07:04<00:33,  2.83it/s]"
     ]
    },
    {
     "name": "stdout",
     "output_type": "stream",
     "text": [
      "INFO:spleeter:File /hdd_data/datasets/audio/unlabeled_data_separation/TJYECIZJ/accompaniment.wav written succesfully\n",
      "INFO:spleeter:File /hdd_data/datasets/audio/unlabeled_data_separation/TJYECIZJ/vocals.wav written succesfully\n"
     ]
    },
    {
     "name": "stderr",
     "output_type": "stream",
     "text": [
      " 93%|█████████▎| 1171/1264 [07:04<00:33,  2.80it/s]"
     ]
    },
    {
     "name": "stdout",
     "output_type": "stream",
     "text": [
      "INFO:spleeter:File /hdd_data/datasets/audio/unlabeled_data_separation/ZDXCALDK/accompaniment.wav written succesfully\n",
      "INFO:spleeter:File /hdd_data/datasets/audio/unlabeled_data_separation/ZDXCALDK/vocals.wav written succesfully\n"
     ]
    },
    {
     "name": "stderr",
     "output_type": "stream",
     "text": [
      " 93%|█████████▎| 1172/1264 [07:04<00:33,  2.78it/s]"
     ]
    },
    {
     "name": "stdout",
     "output_type": "stream",
     "text": [
      "INFO:spleeter:File /hdd_data/datasets/audio/unlabeled_data_separation/PKEUDIPJ/accompaniment.wav written succesfully\n",
      "INFO:spleeter:File /hdd_data/datasets/audio/unlabeled_data_separation/PKEUDIPJ/vocals.wav written succesfully\n"
     ]
    },
    {
     "name": "stderr",
     "output_type": "stream",
     "text": [
      " 93%|█████████▎| 1173/1264 [07:05<00:32,  2.79it/s]"
     ]
    },
    {
     "name": "stdout",
     "output_type": "stream",
     "text": [
      "INFO:spleeter:File /hdd_data/datasets/audio/unlabeled_data_separation/ZLXXYUXC/accompaniment.wav written succesfully\n",
      "INFO:spleeter:File /hdd_data/datasets/audio/unlabeled_data_separation/ZLXXYUXC/vocals.wav written succesfully\n"
     ]
    },
    {
     "name": "stderr",
     "output_type": "stream",
     "text": [
      " 93%|█████████▎| 1174/1264 [07:05<00:32,  2.77it/s]"
     ]
    },
    {
     "name": "stdout",
     "output_type": "stream",
     "text": [
      "INFO:spleeter:File /hdd_data/datasets/audio/unlabeled_data_separation/YLJMFWMT/accompaniment.wav written succesfully\n",
      "INFO:spleeter:File /hdd_data/datasets/audio/unlabeled_data_separation/YLJMFWMT/vocals.wav written succesfully\n"
     ]
    },
    {
     "name": "stderr",
     "output_type": "stream",
     "text": [
      " 93%|█████████▎| 1175/1264 [07:06<00:32,  2.78it/s]"
     ]
    },
    {
     "name": "stdout",
     "output_type": "stream",
     "text": [
      "INFO:spleeter:File /hdd_data/datasets/audio/unlabeled_data_separation/PBXRYUBE/vocals.wav written succesfully\n",
      "INFO:spleeter:File /hdd_data/datasets/audio/unlabeled_data_separation/PBXRYUBE/accompaniment.wav written succesfully\n"
     ]
    },
    {
     "name": "stderr",
     "output_type": "stream",
     "text": [
      " 93%|█████████▎| 1176/1264 [07:06<00:31,  2.80it/s]"
     ]
    },
    {
     "name": "stdout",
     "output_type": "stream",
     "text": [
      "INFO:spleeter:File /hdd_data/datasets/audio/unlabeled_data_separation/LUCFHIJE/vocals.wav written succesfully\n",
      "INFO:spleeter:File /hdd_data/datasets/audio/unlabeled_data_separation/LUCFHIJE/accompaniment.wav written succesfully\n"
     ]
    },
    {
     "name": "stderr",
     "output_type": "stream",
     "text": [
      " 93%|█████████▎| 1177/1264 [07:06<00:31,  2.74it/s]"
     ]
    },
    {
     "name": "stdout",
     "output_type": "stream",
     "text": [
      "INFO:spleeter:File /hdd_data/datasets/audio/unlabeled_data_separation/PZAZBILF/vocals.wav written succesfully\n",
      "INFO:spleeter:File /hdd_data/datasets/audio/unlabeled_data_separation/PZAZBILF/accompaniment.wav written succesfully\n"
     ]
    },
    {
     "name": "stderr",
     "output_type": "stream",
     "text": [
      " 93%|█████████▎| 1178/1264 [07:07<00:31,  2.75it/s]"
     ]
    },
    {
     "name": "stdout",
     "output_type": "stream",
     "text": [
      "INFO:spleeter:File /hdd_data/datasets/audio/unlabeled_data_separation/UBNWVQKA/accompaniment.wav written succesfully\n",
      "INFO:spleeter:File /hdd_data/datasets/audio/unlabeled_data_separation/UBNWVQKA/vocals.wav written succesfully\n"
     ]
    },
    {
     "name": "stderr",
     "output_type": "stream",
     "text": [
      " 93%|█████████▎| 1179/1264 [07:07<00:31,  2.74it/s]"
     ]
    },
    {
     "name": "stdout",
     "output_type": "stream",
     "text": [
      "INFO:spleeter:File /hdd_data/datasets/audio/unlabeled_data_separation/EMGAKWLB/accompaniment.wav written succesfully\n",
      "INFO:spleeter:File /hdd_data/datasets/audio/unlabeled_data_separation/EMGAKWLB/vocals.wav written succesfully\n"
     ]
    },
    {
     "name": "stderr",
     "output_type": "stream",
     "text": [
      " 93%|█████████▎| 1180/1264 [07:07<00:30,  2.74it/s]"
     ]
    },
    {
     "name": "stdout",
     "output_type": "stream",
     "text": [
      "INFO:spleeter:File /hdd_data/datasets/audio/unlabeled_data_separation/SFULDDXA/accompaniment.wav written succesfully\n",
      "INFO:spleeter:File /hdd_data/datasets/audio/unlabeled_data_separation/SFULDDXA/vocals.wav written succesfully\n"
     ]
    },
    {
     "name": "stderr",
     "output_type": "stream",
     "text": [
      " 93%|█████████▎| 1181/1264 [07:08<00:30,  2.72it/s]"
     ]
    },
    {
     "name": "stdout",
     "output_type": "stream",
     "text": [
      "INFO:spleeter:File /hdd_data/datasets/audio/unlabeled_data_separation/ORBTXJGW/vocals.wav written succesfully\n",
      "INFO:spleeter:File /hdd_data/datasets/audio/unlabeled_data_separation/ORBTXJGW/accompaniment.wav written succesfully\n"
     ]
    },
    {
     "name": "stderr",
     "output_type": "stream",
     "text": [
      " 94%|█████████▎| 1182/1264 [07:08<00:29,  2.79it/s]"
     ]
    },
    {
     "name": "stdout",
     "output_type": "stream",
     "text": [
      "INFO:spleeter:File /hdd_data/datasets/audio/unlabeled_data_separation/XLXWYAPT/vocals.wav written succesfully\n",
      "INFO:spleeter:File /hdd_data/datasets/audio/unlabeled_data_separation/XLXWYAPT/accompaniment.wav written succesfully\n"
     ]
    },
    {
     "name": "stderr",
     "output_type": "stream",
     "text": [
      " 94%|█████████▎| 1183/1264 [07:08<00:28,  2.84it/s]"
     ]
    },
    {
     "name": "stdout",
     "output_type": "stream",
     "text": [
      "INFO:spleeter:File /hdd_data/datasets/audio/unlabeled_data_separation/HLFIRNGP/accompaniment.wav written succesfully\n",
      "INFO:spleeter:File /hdd_data/datasets/audio/unlabeled_data_separation/HLFIRNGP/vocals.wav written succesfully\n"
     ]
    },
    {
     "name": "stderr",
     "output_type": "stream",
     "text": [
      " 94%|█████████▎| 1184/1264 [07:09<00:28,  2.82it/s]"
     ]
    },
    {
     "name": "stdout",
     "output_type": "stream",
     "text": [
      "INFO:spleeter:File /hdd_data/datasets/audio/unlabeled_data_separation/JWCAOVHK/accompaniment.wav written succesfully\n",
      "INFO:spleeter:File /hdd_data/datasets/audio/unlabeled_data_separation/JWCAOVHK/vocals.wav written succesfully\n"
     ]
    },
    {
     "name": "stderr",
     "output_type": "stream",
     "text": [
      " 94%|█████████▍| 1185/1264 [07:09<00:28,  2.81it/s]"
     ]
    },
    {
     "name": "stdout",
     "output_type": "stream",
     "text": [
      "INFO:spleeter:File /hdd_data/datasets/audio/unlabeled_data_separation/SIQKLUVE/accompaniment.wav written succesfully\n",
      "INFO:spleeter:File /hdd_data/datasets/audio/unlabeled_data_separation/SIQKLUVE/vocals.wav written succesfully\n"
     ]
    },
    {
     "name": "stderr",
     "output_type": "stream",
     "text": [
      " 94%|█████████▍| 1186/1264 [07:09<00:27,  2.84it/s]"
     ]
    },
    {
     "name": "stdout",
     "output_type": "stream",
     "text": [
      "INFO:spleeter:File /hdd_data/datasets/audio/unlabeled_data_separation/TXEQKDJS/accompaniment.wav written succesfully\n",
      "INFO:spleeter:File /hdd_data/datasets/audio/unlabeled_data_separation/TXEQKDJS/vocals.wav written succesfully\n"
     ]
    },
    {
     "name": "stderr",
     "output_type": "stream",
     "text": [
      " 94%|█████████▍| 1187/1264 [07:10<00:27,  2.81it/s]"
     ]
    },
    {
     "name": "stdout",
     "output_type": "stream",
     "text": [
      "INFO:spleeter:File /hdd_data/datasets/audio/unlabeled_data_separation/MXYAGTEE/accompaniment.wav written succesfully\n",
      "INFO:spleeter:File /hdd_data/datasets/audio/unlabeled_data_separation/MXYAGTEE/vocals.wav written succesfully\n"
     ]
    },
    {
     "name": "stderr",
     "output_type": "stream",
     "text": [
      " 94%|█████████▍| 1188/1264 [07:10<00:26,  2.82it/s]"
     ]
    },
    {
     "name": "stdout",
     "output_type": "stream",
     "text": [
      "INFO:spleeter:File /hdd_data/datasets/audio/unlabeled_data_separation/YMCTIRLM/vocals.wav written succesfully\n",
      "INFO:spleeter:File /hdd_data/datasets/audio/unlabeled_data_separation/YMCTIRLM/accompaniment.wav written succesfully\n"
     ]
    },
    {
     "name": "stderr",
     "output_type": "stream",
     "text": [
      " 94%|█████████▍| 1189/1264 [07:11<00:26,  2.83it/s]"
     ]
    },
    {
     "name": "stdout",
     "output_type": "stream",
     "text": [
      "INFO:spleeter:File /hdd_data/datasets/audio/unlabeled_data_separation/BDCDLPPL/vocals.wav written succesfully\n",
      "INFO:spleeter:File /hdd_data/datasets/audio/unlabeled_data_separation/BDCDLPPL/accompaniment.wav written succesfully\n"
     ]
    },
    {
     "name": "stderr",
     "output_type": "stream",
     "text": [
      " 94%|█████████▍| 1190/1264 [07:11<00:26,  2.76it/s]"
     ]
    },
    {
     "name": "stdout",
     "output_type": "stream",
     "text": [
      "INFO:spleeter:File /hdd_data/datasets/audio/unlabeled_data_separation/LZZOMIOV/accompaniment.wav written succesfully\n",
      "INFO:spleeter:File /hdd_data/datasets/audio/unlabeled_data_separation/LZZOMIOV/vocals.wav written succesfully\n"
     ]
    },
    {
     "name": "stderr",
     "output_type": "stream",
     "text": [
      " 94%|█████████▍| 1191/1264 [07:11<00:26,  2.78it/s]"
     ]
    },
    {
     "name": "stdout",
     "output_type": "stream",
     "text": [
      "INFO:spleeter:File /hdd_data/datasets/audio/unlabeled_data_separation/IPJWPCQV/vocals.wav written succesfully\n",
      "INFO:spleeter:File /hdd_data/datasets/audio/unlabeled_data_separation/IPJWPCQV/accompaniment.wav written succesfully\n"
     ]
    },
    {
     "name": "stderr",
     "output_type": "stream",
     "text": [
      " 94%|█████████▍| 1192/1264 [07:12<00:25,  2.81it/s]"
     ]
    },
    {
     "name": "stdout",
     "output_type": "stream",
     "text": [
      "INFO:spleeter:File /hdd_data/datasets/audio/unlabeled_data_separation/DZVXKMDC/accompaniment.wav written succesfully\n",
      "INFO:spleeter:File /hdd_data/datasets/audio/unlabeled_data_separation/DZVXKMDC/vocals.wav written succesfully\n"
     ]
    },
    {
     "name": "stderr",
     "output_type": "stream",
     "text": [
      " 94%|█████████▍| 1193/1264 [07:12<00:25,  2.82it/s]"
     ]
    },
    {
     "name": "stdout",
     "output_type": "stream",
     "text": [
      "INFO:spleeter:File /hdd_data/datasets/audio/unlabeled_data_separation/CUZLUIFD/vocals.wav written succesfully\n",
      "INFO:spleeter:File /hdd_data/datasets/audio/unlabeled_data_separation/CUZLUIFD/accompaniment.wav written succesfully\n"
     ]
    },
    {
     "name": "stderr",
     "output_type": "stream",
     "text": [
      " 94%|█████████▍| 1194/1264 [07:12<00:24,  2.81it/s]"
     ]
    },
    {
     "name": "stdout",
     "output_type": "stream",
     "text": [
      "INFO:spleeter:File /hdd_data/datasets/audio/unlabeled_data_separation/AMXTBJZA/vocals.wav written succesfully\n",
      "INFO:spleeter:File /hdd_data/datasets/audio/unlabeled_data_separation/AMXTBJZA/accompaniment.wav written succesfully\n"
     ]
    },
    {
     "name": "stderr",
     "output_type": "stream",
     "text": [
      " 95%|█████████▍| 1195/1264 [07:13<00:24,  2.83it/s]"
     ]
    },
    {
     "name": "stdout",
     "output_type": "stream",
     "text": [
      "INFO:spleeter:File /hdd_data/datasets/audio/unlabeled_data_separation/TRLALQUA/vocals.wav written succesfully\n",
      "INFO:spleeter:File /hdd_data/datasets/audio/unlabeled_data_separation/TRLALQUA/accompaniment.wav written succesfully\n"
     ]
    },
    {
     "name": "stderr",
     "output_type": "stream",
     "text": [
      " 95%|█████████▍| 1196/1264 [07:13<00:23,  2.85it/s]"
     ]
    },
    {
     "name": "stdout",
     "output_type": "stream",
     "text": [
      "INFO:spleeter:File /hdd_data/datasets/audio/unlabeled_data_separation/WBOEFNHI/vocals.wav written succesfully\n",
      "INFO:spleeter:File /hdd_data/datasets/audio/unlabeled_data_separation/WBOEFNHI/accompaniment.wav written succesfully\n"
     ]
    },
    {
     "name": "stderr",
     "output_type": "stream",
     "text": [
      " 95%|█████████▍| 1197/1264 [07:13<00:23,  2.85it/s]"
     ]
    },
    {
     "name": "stdout",
     "output_type": "stream",
     "text": [
      "INFO:spleeter:File /hdd_data/datasets/audio/unlabeled_data_separation/JIKHOTTY/vocals.wav written succesfully\n",
      "INFO:spleeter:File /hdd_data/datasets/audio/unlabeled_data_separation/JIKHOTTY/accompaniment.wav written succesfully\n"
     ]
    },
    {
     "name": "stderr",
     "output_type": "stream",
     "text": [
      " 95%|█████████▍| 1198/1264 [07:14<00:23,  2.82it/s]"
     ]
    },
    {
     "name": "stdout",
     "output_type": "stream",
     "text": [
      "INFO:spleeter:File /hdd_data/datasets/audio/unlabeled_data_separation/FWQPUPXG/vocals.wav written succesfully\n",
      "INFO:spleeter:File /hdd_data/datasets/audio/unlabeled_data_separation/FWQPUPXG/accompaniment.wav written succesfully\n"
     ]
    },
    {
     "name": "stderr",
     "output_type": "stream",
     "text": [
      " 95%|█████████▍| 1199/1264 [07:14<00:22,  2.83it/s]"
     ]
    },
    {
     "name": "stdout",
     "output_type": "stream",
     "text": [
      "INFO:spleeter:File /hdd_data/datasets/audio/unlabeled_data_separation/QTXVITRK/vocals.wav written succesfully\n",
      "INFO:spleeter:File /hdd_data/datasets/audio/unlabeled_data_separation/QTXVITRK/accompaniment.wav written succesfully\n"
     ]
    },
    {
     "name": "stderr",
     "output_type": "stream",
     "text": [
      " 95%|█████████▍| 1200/1264 [07:14<00:22,  2.86it/s]"
     ]
    },
    {
     "name": "stdout",
     "output_type": "stream",
     "text": [
      "INFO:spleeter:File /hdd_data/datasets/audio/unlabeled_data_separation/TNBYMWDB/accompaniment.wav written succesfully\n",
      "INFO:spleeter:File /hdd_data/datasets/audio/unlabeled_data_separation/TNBYMWDB/vocals.wav written succesfully\n"
     ]
    },
    {
     "name": "stderr",
     "output_type": "stream",
     "text": [
      " 95%|█████████▌| 1201/1264 [07:15<00:22,  2.83it/s]"
     ]
    },
    {
     "name": "stdout",
     "output_type": "stream",
     "text": [
      "INFO:spleeter:File /hdd_data/datasets/audio/unlabeled_data_separation/ZEBIUAJR/vocals.wav written succesfully\n",
      "INFO:spleeter:File /hdd_data/datasets/audio/unlabeled_data_separation/ZEBIUAJR/accompaniment.wav written succesfully\n"
     ]
    },
    {
     "name": "stderr",
     "output_type": "stream",
     "text": [
      " 95%|█████████▌| 1202/1264 [07:15<00:21,  2.83it/s]"
     ]
    },
    {
     "name": "stdout",
     "output_type": "stream",
     "text": [
      "INFO:spleeter:File /hdd_data/datasets/audio/unlabeled_data_separation/YAFBSDZT/accompaniment.wav written succesfully\n",
      "INFO:spleeter:File /hdd_data/datasets/audio/unlabeled_data_separation/YAFBSDZT/vocals.wav written succesfully\n"
     ]
    },
    {
     "name": "stderr",
     "output_type": "stream",
     "text": [
      " 95%|█████████▌| 1203/1264 [07:16<00:21,  2.85it/s]"
     ]
    },
    {
     "name": "stdout",
     "output_type": "stream",
     "text": [
      "INFO:spleeter:File /hdd_data/datasets/audio/unlabeled_data_separation/YNZGWPZH/accompaniment.wav written succesfully\n",
      "INFO:spleeter:File /hdd_data/datasets/audio/unlabeled_data_separation/YNZGWPZH/vocals.wav written succesfully\n"
     ]
    },
    {
     "name": "stderr",
     "output_type": "stream",
     "text": [
      " 95%|█████████▌| 1204/1264 [07:16<00:20,  2.87it/s]"
     ]
    },
    {
     "name": "stdout",
     "output_type": "stream",
     "text": [
      "INFO:spleeter:File /hdd_data/datasets/audio/unlabeled_data_separation/PMTXAOSV/vocals.wav written succesfully\n",
      "INFO:spleeter:File /hdd_data/datasets/audio/unlabeled_data_separation/PMTXAOSV/accompaniment.wav written succesfully\n"
     ]
    },
    {
     "name": "stderr",
     "output_type": "stream",
     "text": [
      " 95%|█████████▌| 1205/1264 [07:16<00:20,  2.88it/s]"
     ]
    },
    {
     "name": "stdout",
     "output_type": "stream",
     "text": [
      "INFO:spleeter:File /hdd_data/datasets/audio/unlabeled_data_separation/BYJDOELP/vocals.wav written succesfully\n",
      "INFO:spleeter:File /hdd_data/datasets/audio/unlabeled_data_separation/BYJDOELP/accompaniment.wav written succesfully\n"
     ]
    },
    {
     "name": "stderr",
     "output_type": "stream",
     "text": [
      " 95%|█████████▌| 1206/1264 [07:17<00:20,  2.84it/s]"
     ]
    },
    {
     "name": "stdout",
     "output_type": "stream",
     "text": [
      "INFO:spleeter:File /hdd_data/datasets/audio/unlabeled_data_separation/UESQQGDA/accompaniment.wav written succesfully\n",
      "INFO:spleeter:File /hdd_data/datasets/audio/unlabeled_data_separation/UESQQGDA/vocals.wav written succesfully\n"
     ]
    },
    {
     "name": "stderr",
     "output_type": "stream",
     "text": [
      " 95%|█████████▌| 1207/1264 [07:17<00:20,  2.79it/s]"
     ]
    },
    {
     "name": "stdout",
     "output_type": "stream",
     "text": [
      "INFO:spleeter:File /hdd_data/datasets/audio/unlabeled_data_separation/ORJSBBPN/accompaniment.wav written succesfully\n",
      "INFO:spleeter:File /hdd_data/datasets/audio/unlabeled_data_separation/ORJSBBPN/vocals.wav written succesfully\n"
     ]
    },
    {
     "name": "stderr",
     "output_type": "stream",
     "text": [
      " 96%|█████████▌| 1208/1264 [07:17<00:20,  2.76it/s]"
     ]
    },
    {
     "name": "stdout",
     "output_type": "stream",
     "text": [
      "INFO:spleeter:File /hdd_data/datasets/audio/unlabeled_data_separation/WFVDEZQO/accompaniment.wav written succesfully\n",
      "INFO:spleeter:File /hdd_data/datasets/audio/unlabeled_data_separation/WFVDEZQO/vocals.wav written succesfully\n"
     ]
    },
    {
     "name": "stderr",
     "output_type": "stream",
     "text": [
      " 96%|█████████▌| 1209/1264 [07:18<00:19,  2.76it/s]"
     ]
    },
    {
     "name": "stdout",
     "output_type": "stream",
     "text": [
      "INFO:spleeter:File /hdd_data/datasets/audio/unlabeled_data_separation/QUBYBTWN/vocals.wav written succesfully\n",
      "INFO:spleeter:File /hdd_data/datasets/audio/unlabeled_data_separation/QUBYBTWN/accompaniment.wav written succesfully\n"
     ]
    },
    {
     "name": "stderr",
     "output_type": "stream",
     "text": [
      " 96%|█████████▌| 1210/1264 [07:18<00:19,  2.76it/s]"
     ]
    },
    {
     "name": "stdout",
     "output_type": "stream",
     "text": [
      "INFO:spleeter:File /hdd_data/datasets/audio/unlabeled_data_separation/ACRWFOFF/vocals.wav written succesfully\n",
      "INFO:spleeter:File /hdd_data/datasets/audio/unlabeled_data_separation/ACRWFOFF/accompaniment.wav written succesfully\n"
     ]
    },
    {
     "name": "stderr",
     "output_type": "stream",
     "text": [
      " 96%|█████████▌| 1211/1264 [07:18<00:18,  2.80it/s]"
     ]
    },
    {
     "name": "stdout",
     "output_type": "stream",
     "text": [
      "INFO:spleeter:File /hdd_data/datasets/audio/unlabeled_data_separation/VMETCYHS/accompaniment.wav written succesfully\n",
      "INFO:spleeter:File /hdd_data/datasets/audio/unlabeled_data_separation/VMETCYHS/vocals.wav written succesfully\n"
     ]
    },
    {
     "name": "stderr",
     "output_type": "stream",
     "text": [
      " 96%|█████████▌| 1212/1264 [07:19<00:18,  2.75it/s]"
     ]
    },
    {
     "name": "stdout",
     "output_type": "stream",
     "text": [
      "INFO:spleeter:File /hdd_data/datasets/audio/unlabeled_data_separation/SRHCRDNT/accompaniment.wav written succesfully\n",
      "INFO:spleeter:File /hdd_data/datasets/audio/unlabeled_data_separation/SRHCRDNT/vocals.wav written succesfully\n"
     ]
    },
    {
     "name": "stderr",
     "output_type": "stream",
     "text": [
      " 96%|█████████▌| 1213/1264 [07:19<00:18,  2.73it/s]"
     ]
    },
    {
     "name": "stdout",
     "output_type": "stream",
     "text": [
      "INFO:spleeter:File /hdd_data/datasets/audio/unlabeled_data_separation/FJAXFTEC/vocals.wav written succesfully\n",
      "INFO:spleeter:File /hdd_data/datasets/audio/unlabeled_data_separation/FJAXFTEC/accompaniment.wav written succesfully\n"
     ]
    },
    {
     "name": "stderr",
     "output_type": "stream",
     "text": [
      " 96%|█████████▌| 1214/1264 [07:20<00:18,  2.70it/s]"
     ]
    },
    {
     "name": "stdout",
     "output_type": "stream",
     "text": [
      "INFO:spleeter:File /hdd_data/datasets/audio/unlabeled_data_separation/TWLIWHRP/accompaniment.wav written succesfully\n",
      "INFO:spleeter:File /hdd_data/datasets/audio/unlabeled_data_separation/TWLIWHRP/vocals.wav written succesfully\n"
     ]
    },
    {
     "name": "stderr",
     "output_type": "stream",
     "text": [
      " 96%|█████████▌| 1215/1264 [07:20<00:17,  2.73it/s]"
     ]
    },
    {
     "name": "stdout",
     "output_type": "stream",
     "text": [
      "INFO:spleeter:File /hdd_data/datasets/audio/unlabeled_data_separation/AYZEMNPE/vocals.wav written succesfully\n",
      "INFO:spleeter:File /hdd_data/datasets/audio/unlabeled_data_separation/AYZEMNPE/accompaniment.wav written succesfully\n"
     ]
    },
    {
     "name": "stderr",
     "output_type": "stream",
     "text": [
      " 96%|█████████▌| 1216/1264 [07:20<00:17,  2.74it/s]"
     ]
    },
    {
     "name": "stdout",
     "output_type": "stream",
     "text": [
      "INFO:spleeter:File /hdd_data/datasets/audio/unlabeled_data_separation/GGBRSEZY/vocals.wav written succesfully\n",
      "INFO:spleeter:File /hdd_data/datasets/audio/unlabeled_data_separation/GGBRSEZY/accompaniment.wav written succesfully\n"
     ]
    },
    {
     "name": "stderr",
     "output_type": "stream",
     "text": [
      " 96%|█████████▋| 1217/1264 [07:21<00:17,  2.74it/s]"
     ]
    },
    {
     "name": "stdout",
     "output_type": "stream",
     "text": [
      "INFO:spleeter:File /hdd_data/datasets/audio/unlabeled_data_separation/ZJQHKPNS/vocals.wav written succesfully\n",
      "INFO:spleeter:File /hdd_data/datasets/audio/unlabeled_data_separation/ZJQHKPNS/accompaniment.wav written succesfully\n"
     ]
    },
    {
     "name": "stderr",
     "output_type": "stream",
     "text": [
      " 96%|█████████▋| 1218/1264 [07:21<00:16,  2.73it/s]"
     ]
    },
    {
     "name": "stdout",
     "output_type": "stream",
     "text": [
      "INFO:spleeter:File /hdd_data/datasets/audio/unlabeled_data_separation/VYLGQGDS/accompaniment.wav written succesfully\n",
      "INFO:spleeter:File /hdd_data/datasets/audio/unlabeled_data_separation/VYLGQGDS/vocals.wav written succesfully\n"
     ]
    },
    {
     "name": "stderr",
     "output_type": "stream",
     "text": [
      " 96%|█████████▋| 1219/1264 [07:21<00:16,  2.76it/s]"
     ]
    },
    {
     "name": "stdout",
     "output_type": "stream",
     "text": [
      "INFO:spleeter:File /hdd_data/datasets/audio/unlabeled_data_separation/MVCIRPPL/accompaniment.wav written succesfully\n",
      "INFO:spleeter:File /hdd_data/datasets/audio/unlabeled_data_separation/MVCIRPPL/vocals.wav written succesfully\n"
     ]
    },
    {
     "name": "stderr",
     "output_type": "stream",
     "text": [
      " 97%|█████████▋| 1220/1264 [07:22<00:15,  2.76it/s]"
     ]
    },
    {
     "name": "stdout",
     "output_type": "stream",
     "text": [
      "INFO:spleeter:File /hdd_data/datasets/audio/unlabeled_data_separation/IMHXBPNV/vocals.wav written succesfully\n",
      "INFO:spleeter:File /hdd_data/datasets/audio/unlabeled_data_separation/IMHXBPNV/accompaniment.wav written succesfully\n"
     ]
    },
    {
     "name": "stderr",
     "output_type": "stream",
     "text": [
      " 97%|█████████▋| 1221/1264 [07:22<00:15,  2.81it/s]"
     ]
    },
    {
     "name": "stdout",
     "output_type": "stream",
     "text": [
      "INFO:spleeter:File /hdd_data/datasets/audio/unlabeled_data_separation/ENAWHFWD/accompaniment.wav written succesfully\n",
      "INFO:spleeter:File /hdd_data/datasets/audio/unlabeled_data_separation/ENAWHFWD/vocals.wav written succesfully\n"
     ]
    },
    {
     "name": "stderr",
     "output_type": "stream",
     "text": [
      " 97%|█████████▋| 1222/1264 [07:22<00:14,  2.83it/s]"
     ]
    },
    {
     "name": "stdout",
     "output_type": "stream",
     "text": [
      "INFO:spleeter:File /hdd_data/datasets/audio/unlabeled_data_separation/FPDBVKFE/vocals.wav written succesfully\n",
      "INFO:spleeter:File /hdd_data/datasets/audio/unlabeled_data_separation/FPDBVKFE/accompaniment.wav written succesfully\n"
     ]
    },
    {
     "name": "stderr",
     "output_type": "stream",
     "text": [
      " 97%|█████████▋| 1223/1264 [07:23<00:14,  2.80it/s]"
     ]
    },
    {
     "name": "stdout",
     "output_type": "stream",
     "text": [
      "INFO:spleeter:File /hdd_data/datasets/audio/unlabeled_data_separation/QLTEAXIN/accompaniment.wav written succesfully\n",
      "INFO:spleeter:File /hdd_data/datasets/audio/unlabeled_data_separation/QLTEAXIN/vocals.wav written succesfully\n"
     ]
    },
    {
     "name": "stderr",
     "output_type": "stream",
     "text": [
      " 97%|█████████▋| 1224/1264 [07:23<00:14,  2.79it/s]"
     ]
    },
    {
     "name": "stdout",
     "output_type": "stream",
     "text": [
      "INFO:spleeter:File /hdd_data/datasets/audio/unlabeled_data_separation/XFRJIUBF/accompaniment.wav written succesfully\n",
      "INFO:spleeter:File /hdd_data/datasets/audio/unlabeled_data_separation/XFRJIUBF/vocals.wav written succesfully\n"
     ]
    },
    {
     "name": "stderr",
     "output_type": "stream",
     "text": [
      " 97%|█████████▋| 1225/1264 [07:23<00:14,  2.77it/s]"
     ]
    },
    {
     "name": "stdout",
     "output_type": "stream",
     "text": [
      "INFO:spleeter:File /hdd_data/datasets/audio/unlabeled_data_separation/MCMNRLYY/vocals.wav written succesfully\n",
      "INFO:spleeter:File /hdd_data/datasets/audio/unlabeled_data_separation/MCMNRLYY/accompaniment.wav written succesfully\n"
     ]
    },
    {
     "name": "stderr",
     "output_type": "stream",
     "text": [
      " 97%|█████████▋| 1226/1264 [07:24<00:13,  2.78it/s]"
     ]
    },
    {
     "name": "stdout",
     "output_type": "stream",
     "text": [
      "INFO:spleeter:File /hdd_data/datasets/audio/unlabeled_data_separation/MKBATNXF/vocals.wav written succesfully\n",
      "INFO:spleeter:File /hdd_data/datasets/audio/unlabeled_data_separation/MKBATNXF/accompaniment.wav written succesfully\n"
     ]
    },
    {
     "name": "stderr",
     "output_type": "stream",
     "text": [
      " 97%|█████████▋| 1227/1264 [07:24<00:13,  2.74it/s]"
     ]
    },
    {
     "name": "stdout",
     "output_type": "stream",
     "text": [
      "INFO:spleeter:File /hdd_data/datasets/audio/unlabeled_data_separation/WEJHXSYX/accompaniment.wav written succesfully\n",
      "INFO:spleeter:File /hdd_data/datasets/audio/unlabeled_data_separation/WEJHXSYX/vocals.wav written succesfully\n"
     ]
    },
    {
     "name": "stderr",
     "output_type": "stream",
     "text": [
      " 97%|█████████▋| 1228/1264 [07:25<00:13,  2.75it/s]"
     ]
    },
    {
     "name": "stdout",
     "output_type": "stream",
     "text": [
      "INFO:spleeter:File /hdd_data/datasets/audio/unlabeled_data_separation/SHJCJLVW/accompaniment.wav written succesfully\n",
      "INFO:spleeter:File /hdd_data/datasets/audio/unlabeled_data_separation/SHJCJLVW/vocals.wav written succesfully\n"
     ]
    },
    {
     "name": "stderr",
     "output_type": "stream",
     "text": [
      " 97%|█████████▋| 1229/1264 [07:25<00:12,  2.75it/s]"
     ]
    },
    {
     "name": "stdout",
     "output_type": "stream",
     "text": [
      "INFO:spleeter:File /hdd_data/datasets/audio/unlabeled_data_separation/RRWYFYMY/accompaniment.wav written succesfully\n",
      "INFO:spleeter:File /hdd_data/datasets/audio/unlabeled_data_separation/RRWYFYMY/vocals.wav written succesfully\n"
     ]
    },
    {
     "name": "stderr",
     "output_type": "stream",
     "text": [
      " 97%|█████████▋| 1230/1264 [07:25<00:12,  2.79it/s]"
     ]
    },
    {
     "name": "stdout",
     "output_type": "stream",
     "text": [
      "INFO:spleeter:File /hdd_data/datasets/audio/unlabeled_data_separation/PEMJWIOJ/vocals.wav written succesfully\n",
      "INFO:spleeter:File /hdd_data/datasets/audio/unlabeled_data_separation/PEMJWIOJ/accompaniment.wav written succesfully\n"
     ]
    },
    {
     "name": "stderr",
     "output_type": "stream",
     "text": [
      " 97%|█████████▋| 1231/1264 [07:26<00:12,  2.73it/s]"
     ]
    },
    {
     "name": "stdout",
     "output_type": "stream",
     "text": [
      "INFO:spleeter:File /hdd_data/datasets/audio/unlabeled_data_separation/KJZSWRJD/accompaniment.wav written succesfully\n",
      "INFO:spleeter:File /hdd_data/datasets/audio/unlabeled_data_separation/KJZSWRJD/vocals.wav written succesfully\n"
     ]
    },
    {
     "name": "stderr",
     "output_type": "stream",
     "text": [
      " 97%|█████████▋| 1232/1264 [07:26<00:11,  2.75it/s]"
     ]
    },
    {
     "name": "stdout",
     "output_type": "stream",
     "text": [
      "INFO:spleeter:File /hdd_data/datasets/audio/unlabeled_data_separation/PKOGLKJI/accompaniment.wav written succesfully\n",
      "INFO:spleeter:File /hdd_data/datasets/audio/unlabeled_data_separation/PKOGLKJI/vocals.wav written succesfully\n"
     ]
    },
    {
     "name": "stderr",
     "output_type": "stream",
     "text": [
      " 98%|█████████▊| 1233/1264 [07:26<00:11,  2.75it/s]"
     ]
    },
    {
     "name": "stdout",
     "output_type": "stream",
     "text": [
      "INFO:spleeter:File /hdd_data/datasets/audio/unlabeled_data_separation/BYHXHIBE/accompaniment.wav written succesfully\n",
      "INFO:spleeter:File /hdd_data/datasets/audio/unlabeled_data_separation/BYHXHIBE/vocals.wav written succesfully\n"
     ]
    },
    {
     "name": "stderr",
     "output_type": "stream",
     "text": [
      " 98%|█████████▊| 1234/1264 [07:27<00:10,  2.78it/s]"
     ]
    },
    {
     "name": "stdout",
     "output_type": "stream",
     "text": [
      "INFO:spleeter:File /hdd_data/datasets/audio/unlabeled_data_separation/YZUASZGP/vocals.wav written succesfully\n",
      "INFO:spleeter:File /hdd_data/datasets/audio/unlabeled_data_separation/YZUASZGP/accompaniment.wav written succesfully\n"
     ]
    },
    {
     "name": "stderr",
     "output_type": "stream",
     "text": [
      " 98%|█████████▊| 1235/1264 [07:27<00:10,  2.80it/s]"
     ]
    },
    {
     "name": "stdout",
     "output_type": "stream",
     "text": [
      "INFO:spleeter:File /hdd_data/datasets/audio/unlabeled_data_separation/PVSIGIQW/vocals.wav written succesfully\n",
      "INFO:spleeter:File /hdd_data/datasets/audio/unlabeled_data_separation/PVSIGIQW/accompaniment.wav written succesfully\n"
     ]
    },
    {
     "name": "stderr",
     "output_type": "stream",
     "text": [
      " 98%|█████████▊| 1236/1264 [07:27<00:10,  2.78it/s]"
     ]
    },
    {
     "name": "stdout",
     "output_type": "stream",
     "text": [
      "INFO:spleeter:File /hdd_data/datasets/audio/unlabeled_data_separation/DAHHTEHF/accompaniment.wav written succesfully\n",
      "INFO:spleeter:File /hdd_data/datasets/audio/unlabeled_data_separation/DAHHTEHF/vocals.wav written succesfully\n"
     ]
    },
    {
     "name": "stderr",
     "output_type": "stream",
     "text": [
      " 98%|█████████▊| 1237/1264 [07:28<00:09,  2.78it/s]"
     ]
    },
    {
     "name": "stdout",
     "output_type": "stream",
     "text": [
      "INFO:spleeter:File /hdd_data/datasets/audio/unlabeled_data_separation/HFKRKRFB/vocals.wav written succesfully\n",
      "INFO:spleeter:File /hdd_data/datasets/audio/unlabeled_data_separation/HFKRKRFB/accompaniment.wav written succesfully\n"
     ]
    },
    {
     "name": "stderr",
     "output_type": "stream",
     "text": [
      " 98%|█████████▊| 1238/1264 [07:28<00:09,  2.80it/s]"
     ]
    },
    {
     "name": "stdout",
     "output_type": "stream",
     "text": [
      "INFO:spleeter:File /hdd_data/datasets/audio/unlabeled_data_separation/DPWHKACT/vocals.wav written succesfully\n",
      "INFO:spleeter:File /hdd_data/datasets/audio/unlabeled_data_separation/DPWHKACT/accompaniment.wav written succesfully\n"
     ]
    },
    {
     "name": "stderr",
     "output_type": "stream",
     "text": [
      " 98%|█████████▊| 1239/1264 [07:28<00:08,  2.82it/s]"
     ]
    },
    {
     "name": "stdout",
     "output_type": "stream",
     "text": [
      "INFO:spleeter:File /hdd_data/datasets/audio/unlabeled_data_separation/FVPBUBIT/accompaniment.wav written succesfully\n",
      "INFO:spleeter:File /hdd_data/datasets/audio/unlabeled_data_separation/FVPBUBIT/vocals.wav written succesfully\n"
     ]
    },
    {
     "name": "stderr",
     "output_type": "stream",
     "text": [
      " 98%|█████████▊| 1240/1264 [07:29<00:08,  2.83it/s]"
     ]
    },
    {
     "name": "stdout",
     "output_type": "stream",
     "text": [
      "INFO:spleeter:File /hdd_data/datasets/audio/unlabeled_data_separation/YEDWIUCT/vocals.wav written succesfully\n",
      "INFO:spleeter:File /hdd_data/datasets/audio/unlabeled_data_separation/YEDWIUCT/accompaniment.wav written succesfully\n"
     ]
    },
    {
     "name": "stderr",
     "output_type": "stream",
     "text": [
      " 98%|█████████▊| 1241/1264 [07:29<00:08,  2.80it/s]"
     ]
    },
    {
     "name": "stdout",
     "output_type": "stream",
     "text": [
      "INFO:spleeter:File /hdd_data/datasets/audio/unlabeled_data_separation/TOKUZWHO/vocals.wav written succesfully\n",
      "INFO:spleeter:File /hdd_data/datasets/audio/unlabeled_data_separation/TOKUZWHO/accompaniment.wav written succesfully\n"
     ]
    },
    {
     "name": "stderr",
     "output_type": "stream",
     "text": [
      " 98%|█████████▊| 1242/1264 [07:30<00:07,  2.81it/s]"
     ]
    },
    {
     "name": "stdout",
     "output_type": "stream",
     "text": [
      "INFO:spleeter:File /hdd_data/datasets/audio/unlabeled_data_separation/YLUTTQFX/vocals.wav written succesfully\n",
      "INFO:spleeter:File /hdd_data/datasets/audio/unlabeled_data_separation/YLUTTQFX/accompaniment.wav written succesfully\n"
     ]
    },
    {
     "name": "stderr",
     "output_type": "stream",
     "text": [
      " 98%|█████████▊| 1243/1264 [07:30<00:07,  2.82it/s]"
     ]
    },
    {
     "name": "stdout",
     "output_type": "stream",
     "text": [
      "INFO:spleeter:File /hdd_data/datasets/audio/unlabeled_data_separation/LXPXZWCG/vocals.wav written succesfully\n",
      "INFO:spleeter:File /hdd_data/datasets/audio/unlabeled_data_separation/LXPXZWCG/accompaniment.wav written succesfully\n"
     ]
    },
    {
     "name": "stderr",
     "output_type": "stream",
     "text": [
      " 98%|█████████▊| 1244/1264 [07:30<00:07,  2.81it/s]"
     ]
    },
    {
     "name": "stdout",
     "output_type": "stream",
     "text": [
      "INFO:spleeter:File /hdd_data/datasets/audio/unlabeled_data_separation/JOCNXWKJ/vocals.wav written succesfully\n",
      "INFO:spleeter:File /hdd_data/datasets/audio/unlabeled_data_separation/JOCNXWKJ/accompaniment.wav written succesfully\n"
     ]
    },
    {
     "name": "stderr",
     "output_type": "stream",
     "text": [
      " 98%|█████████▊| 1245/1264 [07:31<00:06,  2.80it/s]"
     ]
    },
    {
     "name": "stdout",
     "output_type": "stream",
     "text": [
      "INFO:spleeter:File /hdd_data/datasets/audio/unlabeled_data_separation/HSQQMBMM/vocals.wav written succesfully\n",
      "INFO:spleeter:File /hdd_data/datasets/audio/unlabeled_data_separation/HSQQMBMM/accompaniment.wav written succesfully\n"
     ]
    },
    {
     "name": "stderr",
     "output_type": "stream",
     "text": [
      " 99%|█████████▊| 1246/1264 [07:31<00:06,  2.81it/s]"
     ]
    },
    {
     "name": "stdout",
     "output_type": "stream",
     "text": [
      "INFO:spleeter:File /hdd_data/datasets/audio/unlabeled_data_separation/LWFXBEML/accompaniment.wav written succesfully\n",
      "INFO:spleeter:File /hdd_data/datasets/audio/unlabeled_data_separation/LWFXBEML/vocals.wav written succesfully\n"
     ]
    },
    {
     "name": "stderr",
     "output_type": "stream",
     "text": [
      " 99%|█████████▊| 1247/1264 [07:31<00:06,  2.80it/s]"
     ]
    },
    {
     "name": "stdout",
     "output_type": "stream",
     "text": [
      "INFO:spleeter:File /hdd_data/datasets/audio/unlabeled_data_separation/JLXSLTTT/vocals.wav written succesfully\n",
      "INFO:spleeter:File /hdd_data/datasets/audio/unlabeled_data_separation/JLXSLTTT/accompaniment.wav written succesfully\n"
     ]
    },
    {
     "name": "stderr",
     "output_type": "stream",
     "text": [
      " 99%|█████████▊| 1248/1264 [07:32<00:05,  2.81it/s]"
     ]
    },
    {
     "name": "stdout",
     "output_type": "stream",
     "text": [
      "INFO:spleeter:File /hdd_data/datasets/audio/unlabeled_data_separation/BHROXTWO/accompaniment.wav written succesfully\n",
      "INFO:spleeter:File /hdd_data/datasets/audio/unlabeled_data_separation/BHROXTWO/vocals.wav written succesfully\n"
     ]
    },
    {
     "name": "stderr",
     "output_type": "stream",
     "text": [
      " 99%|█████████▉| 1249/1264 [07:32<00:05,  2.76it/s]"
     ]
    },
    {
     "name": "stdout",
     "output_type": "stream",
     "text": [
      "INFO:spleeter:File /hdd_data/datasets/audio/unlabeled_data_separation/CNZIDPHH/vocals.wav written succesfully\n",
      "INFO:spleeter:File /hdd_data/datasets/audio/unlabeled_data_separation/CNZIDPHH/accompaniment.wav written succesfully\n"
     ]
    },
    {
     "name": "stderr",
     "output_type": "stream",
     "text": [
      " 99%|█████████▉| 1250/1264 [07:32<00:05,  2.79it/s]"
     ]
    },
    {
     "name": "stdout",
     "output_type": "stream",
     "text": [
      "INFO:spleeter:File /hdd_data/datasets/audio/unlabeled_data_separation/IYHCYOGS/vocals.wav written succesfully\n",
      "INFO:spleeter:File /hdd_data/datasets/audio/unlabeled_data_separation/IYHCYOGS/accompaniment.wav written succesfully\n"
     ]
    },
    {
     "name": "stderr",
     "output_type": "stream",
     "text": [
      " 99%|█████████▉| 1251/1264 [07:33<00:04,  2.78it/s]"
     ]
    },
    {
     "name": "stdout",
     "output_type": "stream",
     "text": [
      "INFO:spleeter:File /hdd_data/datasets/audio/unlabeled_data_separation/GQLPIWUP/accompaniment.wav written succesfully\n",
      "INFO:spleeter:File /hdd_data/datasets/audio/unlabeled_data_separation/GQLPIWUP/vocals.wav written succesfully\n"
     ]
    },
    {
     "name": "stderr",
     "output_type": "stream",
     "text": [
      " 99%|█████████▉| 1252/1264 [07:33<00:04,  2.79it/s]"
     ]
    },
    {
     "name": "stdout",
     "output_type": "stream",
     "text": [
      "INFO:spleeter:File /hdd_data/datasets/audio/unlabeled_data_separation/LNNMTLMR/accompaniment.wav written succesfully\n",
      "INFO:spleeter:File /hdd_data/datasets/audio/unlabeled_data_separation/LNNMTLMR/vocals.wav written succesfully\n"
     ]
    },
    {
     "name": "stderr",
     "output_type": "stream",
     "text": [
      " 99%|█████████▉| 1253/1264 [07:34<00:03,  2.77it/s]"
     ]
    },
    {
     "name": "stdout",
     "output_type": "stream",
     "text": [
      "INFO:spleeter:File /hdd_data/datasets/audio/unlabeled_data_separation/DVQLBYLZ/vocals.wav written succesfully\n",
      "INFO:spleeter:File /hdd_data/datasets/audio/unlabeled_data_separation/DVQLBYLZ/accompaniment.wav written succesfully\n"
     ]
    },
    {
     "name": "stderr",
     "output_type": "stream",
     "text": [
      " 99%|█████████▉| 1254/1264 [07:34<00:03,  2.67it/s]"
     ]
    },
    {
     "name": "stdout",
     "output_type": "stream",
     "text": [
      "INFO:spleeter:File /hdd_data/datasets/audio/unlabeled_data_separation/LPDWVGOC/accompaniment.wav written succesfully\n",
      "INFO:spleeter:File /hdd_data/datasets/audio/unlabeled_data_separation/LPDWVGOC/vocals.wav written succesfully\n"
     ]
    },
    {
     "name": "stderr",
     "output_type": "stream",
     "text": [
      " 99%|█████████▉| 1255/1264 [07:34<00:03,  2.73it/s]"
     ]
    },
    {
     "name": "stdout",
     "output_type": "stream",
     "text": [
      "INFO:spleeter:File /hdd_data/datasets/audio/unlabeled_data_separation/QEEXCCOE/vocals.wav written succesfully\n",
      "INFO:spleeter:File /hdd_data/datasets/audio/unlabeled_data_separation/QEEXCCOE/accompaniment.wav written succesfully\n"
     ]
    },
    {
     "name": "stderr",
     "output_type": "stream",
     "text": [
      " 99%|█████████▉| 1256/1264 [07:35<00:02,  2.77it/s]"
     ]
    },
    {
     "name": "stdout",
     "output_type": "stream",
     "text": [
      "INFO:spleeter:File /hdd_data/datasets/audio/unlabeled_data_separation/AECNJFCE/accompaniment.wav written succesfully\n",
      "INFO:spleeter:File /hdd_data/datasets/audio/unlabeled_data_separation/AECNJFCE/vocals.wav written succesfully\n"
     ]
    },
    {
     "name": "stderr",
     "output_type": "stream",
     "text": [
      " 99%|█████████▉| 1257/1264 [07:35<00:02,  2.73it/s]"
     ]
    },
    {
     "name": "stdout",
     "output_type": "stream",
     "text": [
      "INFO:spleeter:File /hdd_data/datasets/audio/unlabeled_data_separation/NMNEMYXA/accompaniment.wav written succesfully\n",
      "INFO:spleeter:File /hdd_data/datasets/audio/unlabeled_data_separation/NMNEMYXA/vocals.wav written succesfully\n"
     ]
    },
    {
     "name": "stderr",
     "output_type": "stream",
     "text": [
      "100%|█████████▉| 1258/1264 [07:35<00:02,  2.67it/s]"
     ]
    },
    {
     "name": "stdout",
     "output_type": "stream",
     "text": [
      "INFO:spleeter:File /hdd_data/datasets/audio/unlabeled_data_separation/JSMQROAY/vocals.wav written succesfully\n",
      "INFO:spleeter:File /hdd_data/datasets/audio/unlabeled_data_separation/JSMQROAY/accompaniment.wav written succesfully\n"
     ]
    },
    {
     "name": "stderr",
     "output_type": "stream",
     "text": [
      "100%|█████████▉| 1259/1264 [07:36<00:01,  2.59it/s]"
     ]
    },
    {
     "name": "stdout",
     "output_type": "stream",
     "text": [
      "INFO:spleeter:File /hdd_data/datasets/audio/unlabeled_data_separation/AQDBKHGT/vocals.wav written succesfully\n",
      "INFO:spleeter:File /hdd_data/datasets/audio/unlabeled_data_separation/AQDBKHGT/accompaniment.wav written succesfully\n"
     ]
    },
    {
     "name": "stderr",
     "output_type": "stream",
     "text": [
      "100%|█████████▉| 1260/1264 [07:36<00:01,  2.62it/s]"
     ]
    },
    {
     "name": "stdout",
     "output_type": "stream",
     "text": [
      "INFO:spleeter:File /hdd_data/datasets/audio/unlabeled_data_separation/SWGEYIFU/vocals.wav written succesfully\n",
      "INFO:spleeter:File /hdd_data/datasets/audio/unlabeled_data_separation/SWGEYIFU/accompaniment.wav written succesfully\n"
     ]
    },
    {
     "name": "stderr",
     "output_type": "stream",
     "text": [
      "100%|█████████▉| 1261/1264 [07:37<00:01,  2.65it/s]"
     ]
    },
    {
     "name": "stdout",
     "output_type": "stream",
     "text": [
      "INFO:spleeter:File /hdd_data/datasets/audio/unlabeled_data_separation/WWFFPFDJ/vocals.wav written succesfully\n",
      "INFO:spleeter:File /hdd_data/datasets/audio/unlabeled_data_separation/WWFFPFDJ/accompaniment.wav written succesfully\n"
     ]
    },
    {
     "name": "stderr",
     "output_type": "stream",
     "text": [
      "100%|█████████▉| 1262/1264 [07:37<00:00,  2.68it/s]"
     ]
    },
    {
     "name": "stdout",
     "output_type": "stream",
     "text": [
      "INFO:spleeter:File /hdd_data/datasets/audio/unlabeled_data_separation/PYOBAYOU/accompaniment.wav written succesfully\n",
      "INFO:spleeter:File /hdd_data/datasets/audio/unlabeled_data_separation/PYOBAYOU/vocals.wav written succesfully\n"
     ]
    },
    {
     "name": "stderr",
     "output_type": "stream",
     "text": [
      "100%|█████████▉| 1263/1264 [07:37<00:00,  2.66it/s]"
     ]
    },
    {
     "name": "stdout",
     "output_type": "stream",
     "text": [
      "INFO:spleeter:File /hdd_data/datasets/audio/unlabeled_data_separation/FUSTRUEP/accompaniment.wav written succesfully\n",
      "INFO:spleeter:File /hdd_data/datasets/audio/unlabeled_data_separation/FUSTRUEP/vocals.wav written succesfully\n"
     ]
    },
    {
     "name": "stderr",
     "output_type": "stream",
     "text": [
      "100%|██████████| 1264/1264 [07:38<00:00,  2.76it/s]\n"
     ]
    }
   ],
   "source": [
    "# Spleeter 모델을 초기화합니다 (2 stems model: 보컬과 배경음 분리).\n",
    "separator = Separator('spleeter:2stems')\n",
    "output_dir = \"/hdd_data/datasets/audio/unlabeled_data_separation\"\n",
    "\n",
    "for file in tqdm(glob(\"/home/aicontest/DF/data/audio/unlabeled_data/*.ogg\")):\n",
    "    # file_name = file.split(\"/\")[-1][:-4]\n",
    "    # file_name = \"/hdd_data/datasets/audio/unlabeled_data/resampled/\" + file_name + \".wav\"\n",
    "    separator.separate_to_file(file, output_dir)"
   ]
  },
  {
   "cell_type": "code",
   "execution_count": 3,
   "metadata": {},
   "outputs": [
    {
     "name": "stdout",
     "output_type": "stream",
     "text": [
      "INFO:tensorflow:Using config: {'_model_dir': 'pretrained_models/2stems', '_tf_random_seed': None, '_save_summary_steps': 100, '_save_checkpoints_steps': None, '_save_checkpoints_secs': 600, '_session_config': gpu_options {\n",
      "  per_process_gpu_memory_fraction: 0.7\n",
      "}\n",
      ", '_keep_checkpoint_max': 5, '_keep_checkpoint_every_n_hours': 10000, '_log_step_count_steps': 100, '_train_distribute': None, '_device_fn': None, '_protocol': None, '_eval_distribute': None, '_experimental_distribute': None, '_experimental_max_worker_delay_secs': None, '_session_creation_timeout_secs': 7200, '_checkpoint_save_graph_def': True, '_service': None, '_cluster_spec': ClusterSpec({}), '_task_type': 'worker', '_task_id': 0, '_global_id_in_cluster': 0, '_master': '', '_evaluation_master': '', '_is_chief': True, '_num_ps_replicas': 0, '_num_worker_replicas': 1}\n",
      "WARNING:tensorflow:From /home/aicontest/anaconda3/envs/moon/lib/python3.9/site-packages/spleeter/separator.py:146: calling DatasetV2.from_generator (from tensorflow.python.data.ops.dataset_ops) with output_types is deprecated and will be removed in a future version.\n",
      "Instructions for updating:\n",
      "Use output_signature instead\n",
      "WARNING:tensorflow:From /home/aicontest/anaconda3/envs/moon/lib/python3.9/site-packages/spleeter/separator.py:146: calling DatasetV2.from_generator (from tensorflow.python.data.ops.dataset_ops) with output_shapes is deprecated and will be removed in a future version.\n",
      "Instructions for updating:\n",
      "Use output_signature instead\n",
      "INFO:tensorflow:Calling model_fn.\n",
      "INFO:tensorflow:Apply unet for vocals_spectrogram\n",
      "WARNING:tensorflow:From /home/aicontest/anaconda3/envs/moon/lib/python3.9/site-packages/keras/layers/normalization/batch_normalization.py:514: _colocate_with (from tensorflow.python.framework.ops) is deprecated and will be removed in a future version.\n",
      "Instructions for updating:\n",
      "Colocations handled automatically by placer.\n"
     ]
    },
    {
     "name": "stderr",
     "output_type": "stream",
     "text": [
      "2024-07-04 21:19:29.532057: I tensorflow/stream_executor/cuda/cuda_gpu_executor.cc:975] successful NUMA node read from SysFS had negative value (-1), but there must be at least one NUMA node, so returning NUMA node zero\n",
      "2024-07-04 21:19:29.533607: W tensorflow/stream_executor/platform/default/dso_loader.cc:64] Could not load dynamic library 'libcudart.so.11.0'; dlerror: libcudart.so.11.0: cannot open shared object file: No such file or directory\n",
      "2024-07-04 21:19:29.533641: W tensorflow/stream_executor/platform/default/dso_loader.cc:64] Could not load dynamic library 'libcublas.so.11'; dlerror: libcublas.so.11: cannot open shared object file: No such file or directory\n",
      "2024-07-04 21:19:29.533665: W tensorflow/stream_executor/platform/default/dso_loader.cc:64] Could not load dynamic library 'libcublasLt.so.11'; dlerror: libcublasLt.so.11: cannot open shared object file: No such file or directory\n",
      "2024-07-04 21:19:29.533689: W tensorflow/stream_executor/platform/default/dso_loader.cc:64] Could not load dynamic library 'libcufft.so.10'; dlerror: libcufft.so.10: cannot open shared object file: No such file or directory\n",
      "2024-07-04 21:19:29.534165: W tensorflow/stream_executor/platform/default/dso_loader.cc:64] Could not load dynamic library 'libcusparse.so.11'; dlerror: libcusparse.so.11: cannot open shared object file: No such file or directory\n",
      "2024-07-04 21:19:29.534192: W tensorflow/core/common_runtime/gpu/gpu_device.cc:1850] Cannot dlopen some GPU libraries. Please make sure the missing libraries mentioned above are installed properly if you would like to use GPU. Follow the guide at https://www.tensorflow.org/install/gpu for how to download and setup the required libraries for your platform.\n",
      "Skipping registering GPU devices...\n"
     ]
    },
    {
     "name": "stdout",
     "output_type": "stream",
     "text": [
      "INFO:tensorflow:Apply unet for accompaniment_spectrogram\n",
      "INFO:tensorflow:Done calling model_fn.\n",
      "INFO:tensorflow:Graph was finalized.\n",
      "INFO:tensorflow:Restoring parameters from pretrained_models/2stems/model\n"
     ]
    },
    {
     "name": "stderr",
     "output_type": "stream",
     "text": [
      "2024-07-04 21:19:31.266917: I tensorflow/core/platform/cpu_feature_guard.cc:193] This TensorFlow binary is optimized with oneAPI Deep Neural Network Library (oneDNN) to use the following CPU instructions in performance-critical operations:  AVX2 AVX_VNNI FMA\n",
      "To enable them in other operations, rebuild TensorFlow with the appropriate compiler flags.\n",
      "2024-07-04 21:19:31.267961: I tensorflow/stream_executor/cuda/cuda_gpu_executor.cc:975] successful NUMA node read from SysFS had negative value (-1), but there must be at least one NUMA node, so returning NUMA node zero\n",
      "2024-07-04 21:19:31.269494: W tensorflow/core/common_runtime/gpu/gpu_device.cc:1850] Cannot dlopen some GPU libraries. Please make sure the missing libraries mentioned above are installed properly if you would like to use GPU. Follow the guide at https://www.tensorflow.org/install/gpu for how to download and setup the required libraries for your platform.\n",
      "Skipping registering GPU devices...\n",
      "2024-07-04 21:19:31.426242: I tensorflow/compiler/mlir/mlir_graph_optimization_pass.cc:354] MLIR V1 optimization pass is not enabled\n"
     ]
    },
    {
     "name": "stdout",
     "output_type": "stream",
     "text": [
      "INFO:tensorflow:Running local_init_op.\n",
      "INFO:tensorflow:Done running local_init_op.\n",
      "INFO:spleeter:File ./output/TEST_49956/vocals.wav written succesfully\n",
      "INFO:spleeter:File ./output/TEST_49956/accompaniment.wav written succesfully\n"
     ]
    }
   ],
   "source": [
    "\n",
    "\n",
    "# Spleeter 모델을 초기화합니다 (2 stems model: 보컬과 배경음 분리).\n",
    "separator = Separator('spleeter:2stems')\n",
    "\n",
    "# 분리할 오디오 파일 경로와 출력 디렉토리를 설정합니다.\n",
    "input_audio = 'input_audio_file.wav'\n",
    "output_dir = './output'\n",
    "\n",
    "# 분리 작업을 수행합니다.\n",
    "separator.separate_to_file(\"/home/aicontest/DF/data/audio/test/TEST_49956.ogg\", output_dir)\n",
    "\n"
   ]
  },
  {
   "cell_type": "code",
   "execution_count": 11,
   "metadata": {},
   "outputs": [
    {
     "name": "stderr",
     "output_type": "stream",
     "text": [
      "100%|██████████| 1264/1264 [02:23<00:00,  8.83it/s]\n"
     ]
    }
   ],
   "source": [
    "# unlabeled_data에 존재하는 모든 ogg 파일\n",
    "for file in tqdm(glob(\"/home/aicontest/DF/data/audio/unlabeled_data/*.ogg\")):\n",
    "    file_name = file.split(\"/\")[-1][:-4]\n",
    "    file_name = \"/hdd_data/datasets/audio/unlabeled_data/resampled/\" + file_name + \".wav\"\n",
    "    convert_ogg_to_wav(file, file_name)"
   ]
  },
  {
   "cell_type": "code",
   "execution_count": 8,
   "metadata": {},
   "outputs": [
    {
     "name": "stderr",
     "output_type": "stream",
     "text": [
      "2024-07-04 16:43:49,118 - modelscope - WARNING - Model revision not specified, use revision: v0.9.0\n",
      "2024-07-04 16:44:03,705 - modelscope - INFO - loading model...\n",
      "2024-07-04 16:44:03,706 - modelscope - INFO - initiate model from /home/aicontest/.cache/modelscope/hub/damo/speech_mossformer2_separation_temporal_8k\n",
      "2024-07-04 16:44:03,706 - modelscope - INFO - initiate model from location /home/aicontest/.cache/modelscope/hub/damo/speech_mossformer2_separation_temporal_8k.\n",
      "2024-07-04 16:44:03,707 - modelscope - INFO - initialize model from /home/aicontest/.cache/modelscope/hub/damo/speech_mossformer2_separation_temporal_8k\n",
      "2024-07-04 16:44:03,894 - modelscope - WARNING - No preprocessor field found in cfg.\n",
      "2024-07-04 16:44:03,895 - modelscope - WARNING - No val key and type key found in preprocessor domain of configuration.json file.\n",
      "2024-07-04 16:44:03,895 - modelscope - WARNING - Cannot find available config to build preprocessor at mode inference, current config: {'model_dir': '/home/aicontest/.cache/modelscope/hub/damo/speech_mossformer2_separation_temporal_8k'}. trying to build by task and model information.\n",
      "2024-07-04 16:44:03,895 - modelscope - WARNING - No preprocessor key ('speech_mossformer2_separation_temporal_8k', 'speech-separation') found in PREPROCESSOR_MAP, skip building preprocessor.\n",
      "2024-07-04 16:44:05,878 - modelscope - INFO - Start forward...\n",
      "2024-07-04 16:44:06,175 - modelscope - INFO - Finish forward.\n"
     ]
    }
   ],
   "source": [
    "import numpy\n",
    "import soundfile as sf\n",
    "from modelscope.pipelines import pipeline\n",
    "from modelscope.utils.constant import Tasks\n",
    "\n",
    "# input can be a URL or a local path\n",
    "input = './resampled/PSOAJUSA.wav'\n",
    "separation = pipeline(\n",
    "   Tasks.speech_separation,\n",
    "   # model_revision='v1.0.2',\n",
    "   # model_revision='v0.9.0'\n",
    "   # model='damo/speech_separation_mossformer_8k_pytorch')\n",
    "   model='damo/speech_mossformer2_separation_temporal_8k')\n",
    "   # model='dengcunqin/speech_mossformer2_noise_reduction_16k')\n",
    "result = separation(input)\n",
    "for i, signal in enumerate(result['output_pcm_list']):\n",
    "    save_file = f'./result/output_spk{i}.wav'\n",
    "    sf.write(save_file, numpy.frombuffer(signal, dtype=numpy.int16), 8000)"
   ]
  },
  {
   "cell_type": "code",
   "execution_count": null,
   "metadata": {},
   "outputs": [],
   "source": []
  }
 ],
 "metadata": {
  "kernelspec": {
   "display_name": "moon",
   "language": "python",
   "name": "python3"
  },
  "language_info": {
   "codemirror_mode": {
    "name": "ipython",
    "version": 3
   },
   "file_extension": ".py",
   "mimetype": "text/x-python",
   "name": "python",
   "nbconvert_exporter": "python",
   "pygments_lexer": "ipython3",
   "version": "3.9.19"
  }
 },
 "nbformat": 4,
 "nbformat_minor": 2
}
