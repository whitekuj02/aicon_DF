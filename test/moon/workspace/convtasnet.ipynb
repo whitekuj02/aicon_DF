{
 "cells": [
  {
   "cell_type": "code",
   "execution_count": 1,
   "metadata": {},
   "outputs": [
    {
     "name": "stderr",
     "output_type": "stream",
     "text": [
      "100%|██████████| 19.1M/19.1M [00:01<00:00, 11.8MB/s]\n"
     ]
    }
   ],
   "source": [
    "from torchaudio.pipelines import CONVTASNET_BASE_LIBRI2MIX\n",
    "\n",
    "model = CONVTASNET_BASE_LIBRI2MIX.get_model()"
   ]
  },
  {
   "cell_type": "code",
   "execution_count": 31,
   "metadata": {},
   "outputs": [
    {
     "data": {
      "text/plain": [
       "torch.Size([1, 2, 68480])"
      ]
     },
     "execution_count": 31,
     "metadata": {},
     "output_type": "execute_result"
    }
   ],
   "source": [
    "import torchaudio\n",
    "import torch\n",
    "\n",
    "# mixture, sr = torchaudio.load(\"/home/aicontest/DF/data/audio/unlabeled_data/ABJGMLHQ.ogg\")\n",
    "mixture, sr = torchaudio.load(\"./lib2.wav\")\n",
    "mixture = torchaudio.functional.resample(mixture, orig_freq=sr, new_freq=8000)\n",
    "mixture = mixture.unsqueeze(0)\n",
    "estimated_sources = model(mixture)\n",
    "estimated_sources.shape"
   ]
  },
  {
   "cell_type": "markdown",
   "metadata": {},
   "source": [
    "speaker1 = estimated_sources[:, 0, :]\n",
    "speaker2 = estimated_sources[:, 1, :]"
   ]
  },
  {
   "cell_type": "code",
   "execution_count": 33,
   "metadata": {},
   "outputs": [
    {
     "data": {
      "text/plain": [
       "torch.Size([1, 68480])"
      ]
     },
     "execution_count": 33,
     "metadata": {},
     "output_type": "execute_result"
    }
   ],
   "source": [
    "speaker1.shape"
   ]
  },
  {
   "cell_type": "code",
   "execution_count": 34,
   "metadata": {},
   "outputs": [],
   "source": [
    "torchaudio.save(\"./spk1.wav\", src=speaker1, sample_rate=8000)\n",
    "torchaudio.save(\"./spk2.wav\", src=speaker2, sample_rate=8000)"
   ]
  },
  {
   "cell_type": "code",
   "execution_count": null,
   "metadata": {},
   "outputs": [],
   "source": [
    "/home/aicontest/DF/test/moon/Audio-Denoising/test.ipynb"
   ]
  }
 ],
 "metadata": {
  "kernelspec": {
   "display_name": "DF",
   "language": "python",
   "name": "python3"
  },
  "language_info": {
   "codemirror_mode": {
    "name": "ipython",
    "version": 3
   },
   "file_extension": ".py",
   "mimetype": "text/x-python",
   "name": "python",
   "nbconvert_exporter": "python",
   "pygments_lexer": "ipython3",
   "version": "3.11.4"
  }
 },
 "nbformat": 4,
 "nbformat_minor": 2
}
