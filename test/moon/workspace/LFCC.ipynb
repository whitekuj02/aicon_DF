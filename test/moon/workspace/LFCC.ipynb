{
 "cells": [
  {
   "cell_type": "code",
   "execution_count": 5,
   "metadata": {},
   "outputs": [],
   "source": [
    "import librosa"
   ]
  },
  {
   "cell_type": "code",
   "execution_count": 6,
   "metadata": {},
   "outputs": [],
   "source": [
    "with open(\"/home/aicontest/DF/data/audio/train.csv\", \"r\") as f:\n",
    "    metadata = []\n",
    "\n",
    "    for line in f.readlines():\n",
    "        line = line.strip()\n",
    "        _, file_name, label = line.split(\",\")\n",
    "        metadata.append((file_name, label))\n",
    "\n",
    "    metadata = metadata[1:]\n"
   ]
  },
  {
   "cell_type": "code",
   "execution_count": 12,
   "metadata": {},
   "outputs": [
    {
     "name": "stderr",
     "output_type": "stream",
     "text": [
      "  0%|          | 0/55438 [00:00<?, ?it/s]"
     ]
    },
    {
     "name": "stdout",
     "output_type": "stream",
     "text": [
      "(158, 13)\n"
     ]
    },
    {
     "name": "stderr",
     "output_type": "stream",
     "text": [
      "\n"
     ]
    }
   ],
   "source": [
    "from tqdm import tqdm\n",
    "\n",
    "for filename, label in tqdm(metadata):\n",
    "    filepath = \"/home/aicontest/DF/data/audio\" + filename[1:]\n",
    "    y, sr = librosa.load(filepath)\n",
    "\n",
    "    _lfcc = lfcc(sig=y, fs=sr)\n",
    "\n",
    "    print(_lfcc.shape)\n",
    "    \n",
    "    break\n",
    "\n",
    "\n",
    "\n",
    "    \n",
    "\n",
    "\n",
    "    # break"
   ]
  },
  {
   "cell_type": "code",
   "execution_count": 7,
   "metadata": {},
   "outputs": [
    {
     "data": {
      "text/plain": [
       "array([ 0.03544287,  0.05008501,  0.03457981, ..., -0.05341174,\n",
       "       -0.05979163, -0.03311963], dtype=float32)"
      ]
     },
     "execution_count": 7,
     "metadata": {},
     "output_type": "execute_result"
    }
   ],
   "source": [
    "y"
   ]
  },
  {
   "cell_type": "code",
   "execution_count": 9,
   "metadata": {},
   "outputs": [],
   "source": [
    "from spafe.utils.preprocessing import pre_emphasis, framing, windowing\n",
    "from spafe.utils.exceptions import ParameterError, ErrorMsgs\n",
    "from spafe.fbanks.linear_fbanks import linear_filter_banks\n",
    "from spafe.utils.spectral import dct\n",
    "import numpy as np\n",
    "\n",
    "\n",
    "def lfcc(sig,\n",
    "         fs=16000,\n",
    "         num_ceps=13,\n",
    "         pre_emph=1,\n",
    "         pre_emph_coeff=0.97,\n",
    "         win_len=0.030,\n",
    "         win_hop=0.015,\n",
    "         win_type=\"hamming\",\n",
    "         nfilts=70,\n",
    "         nfft=1024,\n",
    "         low_freq=None,\n",
    "         high_freq=None,\n",
    "         scale=\"constant\",\n",
    "         dct_type=2,\n",
    "         normalize=0):\n",
    "    \"\"\"\n",
    "    Compute the linear-frequency cepstral coefﬁcients (GFCC features) from an audio signal.\n",
    "    Args:\n",
    "        sig            (array) : a mono audio signal (Nx1) from which to compute features.\n",
    "        fs               (int) : the sampling frequency of the signal we are working with.\n",
    "                                 Default is 16000.\n",
    "        num_ceps       (float) : number of cepstra to return.\n",
    "                                 Default is 13.\n",
    "        pre_emph         (int) : apply pre-emphasis if 1.\n",
    "                                 Default is 1.\n",
    "        pre_emph_coeff (float) : apply pre-emphasis filter [1 -pre_emph] (0 = none).\n",
    "                                 Default is 0.97.\n",
    "        win_len        (float) : window length in sec.\n",
    "                                 Default is 0.025.\n",
    "        win_hop        (float) : step between successive windows in sec.\n",
    "                                 Default is 0.01.\n",
    "        win_type       (float) : window type to apply for the windowing.\n",
    "                                 Default is \"hamming\".\n",
    "        nfilts           (int) : the number of filters in the filterbank.\n",
    "                                 Default is 40.\n",
    "        nfft             (int) : number of FFT points.\n",
    "                                 Default is 512.\n",
    "        low_freq         (int) : lowest band edge of mel filters (Hz).\n",
    "                                 Default is 0.\n",
    "        high_freq        (int) : highest band edge of mel filters (Hz).\n",
    "                                 Default is samplerate / 2 = 8000.\n",
    "        scale           (str)  : choose if max bins amplitudes ascend, descend or are constant (=1).\n",
    "                                 Default is \"constant\".\n",
    "        dct_type         (int) : type of DCT used - 1 or 2 (or 3 for HTK or 4 for feac).\n",
    "                                 Default is 2.\n",
    "        use_energy       (int) : overwrite C0 with true log energy\n",
    "                                 Default is 0.\n",
    "        lifter           (int) : apply liftering if value > 0.\n",
    "                                 Default is 22.\n",
    "        normalize        (int) : apply normalization if 1.\n",
    "                                 Default is 0.\n",
    "    Returns:\n",
    "        (array) : 2d array of LFCC features (num_frames x num_ceps)\n",
    "    \"\"\"\n",
    "    # init freqs\n",
    "    high_freq = high_freq or fs / 2\n",
    "    low_freq = low_freq or 0\n",
    "\n",
    "    # run checks\n",
    "    if low_freq < 0:\n",
    "        raise ParameterError(ErrorMsgs[\"low_freq\"])\n",
    "    if high_freq > (fs / 2):\n",
    "        raise ParameterError(ErrorMsgs[\"high_freq\"])\n",
    "    if nfilts < num_ceps:\n",
    "        raise ParameterError(ErrorMsgs[\"nfilts\"])\n",
    "\n",
    "    # pre-emphasis\n",
    "    if pre_emph:\n",
    "        sig = pre_emphasis(sig=sig, pre_emph_coeff=pre_emph_coeff)\n",
    "\n",
    "    # -> framing\n",
    "    frames, frame_length = framing(sig=sig,\n",
    "                                   fs=fs,\n",
    "                                   win_len=win_len,\n",
    "                                   win_hop=win_hop)\n",
    "\n",
    "    # -> windowing\n",
    "    windows = windowing(frames=frames,\n",
    "                        frame_len=frame_length,\n",
    "                        win_type=win_type)\n",
    "    \n",
    "    # -> FFT -> |.|\n",
    "    fourrier_transform = np.fft.rfft(windows, nfft)\n",
    "    abs_fft_values = np.abs(fourrier_transform)**2\n",
    "\n",
    "    #  -> x linear-fbanks\n",
    "    linear_fbanks_mat = linear_filter_banks(nfilts=nfilts,\n",
    "                                            nfft=nfft,\n",
    "                                            fs=fs,\n",
    "                                            low_freq=low_freq,\n",
    "                                            high_freq=high_freq,\n",
    "                                            scale=scale)\n",
    "\n",
    "    features = np.dot(abs_fft_values, linear_fbanks_mat.T)\n",
    "    \n",
    "    log_features = np.log10(features+2.2204e-16)\n",
    "\n",
    "    #  -> DCT(.)\n",
    "    lfccs=dct(log_features, type=dct_type, norm='ortho', axis=1)[:, :num_ceps ]\n",
    "\n",
    "    return lfccs"
   ]
  },
  {
   "cell_type": "code",
   "execution_count": null,
   "metadata": {},
   "outputs": [],
   "source": []
  }
 ],
 "metadata": {
  "kernelspec": {
   "display_name": "DF",
   "language": "python",
   "name": "python3"
  },
  "language_info": {
   "codemirror_mode": {
    "name": "ipython",
    "version": 3
   },
   "file_extension": ".py",
   "mimetype": "text/x-python",
   "name": "python",
   "nbconvert_exporter": "python",
   "pygments_lexer": "ipython3",
   "version": "3.9.12"
  }
 },
 "nbformat": 4,
 "nbformat_minor": 2
}
